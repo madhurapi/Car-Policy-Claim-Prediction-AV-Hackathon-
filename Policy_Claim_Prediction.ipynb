{
  "nbformat": 4,
  "nbformat_minor": 0,
  "metadata": {
    "colab": {
      "provenance": [],
      "mount_file_id": "1IBIzQUG2iqo9wTJ-GRnZrw88-yVOqr-l",
      "authorship_tag": "ABX9TyO4+iW5vNYnaFly++69E0Vc",
      "include_colab_link": true
    },
    "kernelspec": {
      "name": "python3",
      "display_name": "Python 3"
    },
    "language_info": {
      "name": "python"
    }
  },
  "cells": [
    {
      "cell_type": "markdown",
      "metadata": {
        "id": "view-in-github",
        "colab_type": "text"
      },
      "source": [
        "<a href=\"https://colab.research.google.com/github/madhurapi/Car-Policy-Claim-Prediction-AV-Hackathon-/blob/main/Policy_Claim_Prediction.ipynb\" target=\"_parent\"><img src=\"https://colab.research.google.com/assets/colab-badge.svg\" alt=\"Open In Colab\"/></a>"
      ]
    },
    {
      "cell_type": "code",
      "execution_count": null,
      "metadata": {
        "id": "NeVcQugZ3lb8"
      },
      "outputs": [],
      "source": [
        "# import 'Numpy' \n",
        "import numpy as np\n",
        "\n",
        "# import 'Pandas' \n",
        "import pandas as pd\n",
        "\n",
        "# import subpackage of Matplotlib\n",
        "import matplotlib.pyplot as plt\n",
        "\n",
        "# import 'Seaborn' \n",
        "import seaborn as sns\n",
        "\n",
        "# to suppress warnings \n",
        "from warnings import filterwarnings\n",
        "filterwarnings('ignore')\n",
        " \n",
        "# to display the float values upto 6 decimal places     \n",
        "pd.options.display.float_format = '{:.6f}'.format\n",
        "\n",
        "# import train-test split \n",
        "from sklearn.model_selection import train_test_split\n",
        "\n",
        "# import various functions from statsmodels\n",
        "import statsmodels\n",
        "import statsmodels.api as sm\n",
        "\n",
        "# import 'stats'\n",
        "from scipy import stats\n",
        "\n",
        "# import StandardScaler to perform scaling\n",
        "from sklearn.preprocessing import StandardScaler \n"
      ]
    },
    {
      "cell_type": "code",
      "source": [
        "file = pd.read_csv(\"/content/drive/MyDrive/Colab Notebooks/analytics vidhya hackhathon/train_qWM28Yl.csv\")\n",
        "file1 = pd.read_csv(\"/content/drive/MyDrive/Colab Notebooks/analytics vidhya hackhathon/test_zo1G9sv.csv\")"
      ],
      "metadata": {
        "id": "UNX1xc584WlJ"
      },
      "execution_count": null,
      "outputs": []
    },
    {
      "cell_type": "code",
      "source": [
        "df = pd.DataFrame(file)\n",
        "df_test = pd.DataFrame(file1)"
      ],
      "metadata": {
        "id": "R303ybWl5fRA"
      },
      "execution_count": null,
      "outputs": []
    },
    {
      "cell_type": "code",
      "source": [
        "df.head()"
      ],
      "metadata": {
        "colab": {
          "base_uri": "https://localhost:8080/",
          "height": 299
        },
        "id": "ZTgwoj925sMQ",
        "outputId": "d0faa9c7-f0d6-442b-ba6a-e8627b3a2200"
      },
      "execution_count": null,
      "outputs": [
        {
          "output_type": "execute_result",
          "data": {
            "text/plain": [
              "  policy_id  policy_tenure  age_of_car  age_of_policyholder area_cluster  \\\n",
              "0   ID00001       0.515874    0.050000             0.644231           C1   \n",
              "1   ID00002       0.672619    0.020000             0.375000           C2   \n",
              "2   ID00003       0.841110    0.020000             0.384615           C3   \n",
              "3   ID00004       0.900277    0.110000             0.432692           C4   \n",
              "4   ID00005       0.596403    0.110000             0.634615           C5   \n",
              "\n",
              "   population_density  make segment model fuel_type  ... is_brake_assist  \\\n",
              "0                4990     1       A    M1       CNG  ...              No   \n",
              "1               27003     1       A    M1       CNG  ...              No   \n",
              "2                4076     1       A    M1       CNG  ...              No   \n",
              "3               21622     1      C1    M2    Petrol  ...             Yes   \n",
              "4               34738     2       A    M3    Petrol  ...              No   \n",
              "\n",
              "  is_power_door_locks is_central_locking  is_power_steering  \\\n",
              "0                  No                 No                Yes   \n",
              "1                  No                 No                Yes   \n",
              "2                  No                 No                Yes   \n",
              "3                 Yes                Yes                Yes   \n",
              "4                 Yes                Yes                Yes   \n",
              "\n",
              "  is_driver_seat_height_adjustable is_day_night_rear_view_mirror is_ecw  \\\n",
              "0                               No                            No     No   \n",
              "1                               No                            No     No   \n",
              "2                               No                            No     No   \n",
              "3                              Yes                           Yes    Yes   \n",
              "4                               No                           Yes    Yes   \n",
              "\n",
              "  is_speed_alert ncap_rating is_claim  \n",
              "0            Yes           0        0  \n",
              "1            Yes           0        0  \n",
              "2            Yes           0        0  \n",
              "3            Yes           2        0  \n",
              "4            Yes           2        0  \n",
              "\n",
              "[5 rows x 44 columns]"
            ],
            "text/html": [
              "\n",
              "  <div id=\"df-5c538cb5-3c48-415d-8eda-79043917c151\">\n",
              "    <div class=\"colab-df-container\">\n",
              "      <div>\n",
              "<style scoped>\n",
              "    .dataframe tbody tr th:only-of-type {\n",
              "        vertical-align: middle;\n",
              "    }\n",
              "\n",
              "    .dataframe tbody tr th {\n",
              "        vertical-align: top;\n",
              "    }\n",
              "\n",
              "    .dataframe thead th {\n",
              "        text-align: right;\n",
              "    }\n",
              "</style>\n",
              "<table border=\"1\" class=\"dataframe\">\n",
              "  <thead>\n",
              "    <tr style=\"text-align: right;\">\n",
              "      <th></th>\n",
              "      <th>policy_id</th>\n",
              "      <th>policy_tenure</th>\n",
              "      <th>age_of_car</th>\n",
              "      <th>age_of_policyholder</th>\n",
              "      <th>area_cluster</th>\n",
              "      <th>population_density</th>\n",
              "      <th>make</th>\n",
              "      <th>segment</th>\n",
              "      <th>model</th>\n",
              "      <th>fuel_type</th>\n",
              "      <th>...</th>\n",
              "      <th>is_brake_assist</th>\n",
              "      <th>is_power_door_locks</th>\n",
              "      <th>is_central_locking</th>\n",
              "      <th>is_power_steering</th>\n",
              "      <th>is_driver_seat_height_adjustable</th>\n",
              "      <th>is_day_night_rear_view_mirror</th>\n",
              "      <th>is_ecw</th>\n",
              "      <th>is_speed_alert</th>\n",
              "      <th>ncap_rating</th>\n",
              "      <th>is_claim</th>\n",
              "    </tr>\n",
              "  </thead>\n",
              "  <tbody>\n",
              "    <tr>\n",
              "      <th>0</th>\n",
              "      <td>ID00001</td>\n",
              "      <td>0.515874</td>\n",
              "      <td>0.050000</td>\n",
              "      <td>0.644231</td>\n",
              "      <td>C1</td>\n",
              "      <td>4990</td>\n",
              "      <td>1</td>\n",
              "      <td>A</td>\n",
              "      <td>M1</td>\n",
              "      <td>CNG</td>\n",
              "      <td>...</td>\n",
              "      <td>No</td>\n",
              "      <td>No</td>\n",
              "      <td>No</td>\n",
              "      <td>Yes</td>\n",
              "      <td>No</td>\n",
              "      <td>No</td>\n",
              "      <td>No</td>\n",
              "      <td>Yes</td>\n",
              "      <td>0</td>\n",
              "      <td>0</td>\n",
              "    </tr>\n",
              "    <tr>\n",
              "      <th>1</th>\n",
              "      <td>ID00002</td>\n",
              "      <td>0.672619</td>\n",
              "      <td>0.020000</td>\n",
              "      <td>0.375000</td>\n",
              "      <td>C2</td>\n",
              "      <td>27003</td>\n",
              "      <td>1</td>\n",
              "      <td>A</td>\n",
              "      <td>M1</td>\n",
              "      <td>CNG</td>\n",
              "      <td>...</td>\n",
              "      <td>No</td>\n",
              "      <td>No</td>\n",
              "      <td>No</td>\n",
              "      <td>Yes</td>\n",
              "      <td>No</td>\n",
              "      <td>No</td>\n",
              "      <td>No</td>\n",
              "      <td>Yes</td>\n",
              "      <td>0</td>\n",
              "      <td>0</td>\n",
              "    </tr>\n",
              "    <tr>\n",
              "      <th>2</th>\n",
              "      <td>ID00003</td>\n",
              "      <td>0.841110</td>\n",
              "      <td>0.020000</td>\n",
              "      <td>0.384615</td>\n",
              "      <td>C3</td>\n",
              "      <td>4076</td>\n",
              "      <td>1</td>\n",
              "      <td>A</td>\n",
              "      <td>M1</td>\n",
              "      <td>CNG</td>\n",
              "      <td>...</td>\n",
              "      <td>No</td>\n",
              "      <td>No</td>\n",
              "      <td>No</td>\n",
              "      <td>Yes</td>\n",
              "      <td>No</td>\n",
              "      <td>No</td>\n",
              "      <td>No</td>\n",
              "      <td>Yes</td>\n",
              "      <td>0</td>\n",
              "      <td>0</td>\n",
              "    </tr>\n",
              "    <tr>\n",
              "      <th>3</th>\n",
              "      <td>ID00004</td>\n",
              "      <td>0.900277</td>\n",
              "      <td>0.110000</td>\n",
              "      <td>0.432692</td>\n",
              "      <td>C4</td>\n",
              "      <td>21622</td>\n",
              "      <td>1</td>\n",
              "      <td>C1</td>\n",
              "      <td>M2</td>\n",
              "      <td>Petrol</td>\n",
              "      <td>...</td>\n",
              "      <td>Yes</td>\n",
              "      <td>Yes</td>\n",
              "      <td>Yes</td>\n",
              "      <td>Yes</td>\n",
              "      <td>Yes</td>\n",
              "      <td>Yes</td>\n",
              "      <td>Yes</td>\n",
              "      <td>Yes</td>\n",
              "      <td>2</td>\n",
              "      <td>0</td>\n",
              "    </tr>\n",
              "    <tr>\n",
              "      <th>4</th>\n",
              "      <td>ID00005</td>\n",
              "      <td>0.596403</td>\n",
              "      <td>0.110000</td>\n",
              "      <td>0.634615</td>\n",
              "      <td>C5</td>\n",
              "      <td>34738</td>\n",
              "      <td>2</td>\n",
              "      <td>A</td>\n",
              "      <td>M3</td>\n",
              "      <td>Petrol</td>\n",
              "      <td>...</td>\n",
              "      <td>No</td>\n",
              "      <td>Yes</td>\n",
              "      <td>Yes</td>\n",
              "      <td>Yes</td>\n",
              "      <td>No</td>\n",
              "      <td>Yes</td>\n",
              "      <td>Yes</td>\n",
              "      <td>Yes</td>\n",
              "      <td>2</td>\n",
              "      <td>0</td>\n",
              "    </tr>\n",
              "  </tbody>\n",
              "</table>\n",
              "<p>5 rows × 44 columns</p>\n",
              "</div>\n",
              "      <button class=\"colab-df-convert\" onclick=\"convertToInteractive('df-5c538cb5-3c48-415d-8eda-79043917c151')\"\n",
              "              title=\"Convert this dataframe to an interactive table.\"\n",
              "              style=\"display:none;\">\n",
              "        \n",
              "  <svg xmlns=\"http://www.w3.org/2000/svg\" height=\"24px\"viewBox=\"0 0 24 24\"\n",
              "       width=\"24px\">\n",
              "    <path d=\"M0 0h24v24H0V0z\" fill=\"none\"/>\n",
              "    <path d=\"M18.56 5.44l.94 2.06.94-2.06 2.06-.94-2.06-.94-.94-2.06-.94 2.06-2.06.94zm-11 1L8.5 8.5l.94-2.06 2.06-.94-2.06-.94L8.5 2.5l-.94 2.06-2.06.94zm10 10l.94 2.06.94-2.06 2.06-.94-2.06-.94-.94-2.06-.94 2.06-2.06.94z\"/><path d=\"M17.41 7.96l-1.37-1.37c-.4-.4-.92-.59-1.43-.59-.52 0-1.04.2-1.43.59L10.3 9.45l-7.72 7.72c-.78.78-.78 2.05 0 2.83L4 21.41c.39.39.9.59 1.41.59.51 0 1.02-.2 1.41-.59l7.78-7.78 2.81-2.81c.8-.78.8-2.07 0-2.86zM5.41 20L4 18.59l7.72-7.72 1.47 1.35L5.41 20z\"/>\n",
              "  </svg>\n",
              "      </button>\n",
              "      \n",
              "  <style>\n",
              "    .colab-df-container {\n",
              "      display:flex;\n",
              "      flex-wrap:wrap;\n",
              "      gap: 12px;\n",
              "    }\n",
              "\n",
              "    .colab-df-convert {\n",
              "      background-color: #E8F0FE;\n",
              "      border: none;\n",
              "      border-radius: 50%;\n",
              "      cursor: pointer;\n",
              "      display: none;\n",
              "      fill: #1967D2;\n",
              "      height: 32px;\n",
              "      padding: 0 0 0 0;\n",
              "      width: 32px;\n",
              "    }\n",
              "\n",
              "    .colab-df-convert:hover {\n",
              "      background-color: #E2EBFA;\n",
              "      box-shadow: 0px 1px 2px rgba(60, 64, 67, 0.3), 0px 1px 3px 1px rgba(60, 64, 67, 0.15);\n",
              "      fill: #174EA6;\n",
              "    }\n",
              "\n",
              "    [theme=dark] .colab-df-convert {\n",
              "      background-color: #3B4455;\n",
              "      fill: #D2E3FC;\n",
              "    }\n",
              "\n",
              "    [theme=dark] .colab-df-convert:hover {\n",
              "      background-color: #434B5C;\n",
              "      box-shadow: 0px 1px 3px 1px rgba(0, 0, 0, 0.15);\n",
              "      filter: drop-shadow(0px 1px 2px rgba(0, 0, 0, 0.3));\n",
              "      fill: #FFFFFF;\n",
              "    }\n",
              "  </style>\n",
              "\n",
              "      <script>\n",
              "        const buttonEl =\n",
              "          document.querySelector('#df-5c538cb5-3c48-415d-8eda-79043917c151 button.colab-df-convert');\n",
              "        buttonEl.style.display =\n",
              "          google.colab.kernel.accessAllowed ? 'block' : 'none';\n",
              "\n",
              "        async function convertToInteractive(key) {\n",
              "          const element = document.querySelector('#df-5c538cb5-3c48-415d-8eda-79043917c151');\n",
              "          const dataTable =\n",
              "            await google.colab.kernel.invokeFunction('convertToInteractive',\n",
              "                                                     [key], {});\n",
              "          if (!dataTable) return;\n",
              "\n",
              "          const docLinkHtml = 'Like what you see? Visit the ' +\n",
              "            '<a target=\"_blank\" href=https://colab.research.google.com/notebooks/data_table.ipynb>data table notebook</a>'\n",
              "            + ' to learn more about interactive tables.';\n",
              "          element.innerHTML = '';\n",
              "          dataTable['output_type'] = 'display_data';\n",
              "          await google.colab.output.renderOutput(dataTable, element);\n",
              "          const docLink = document.createElement('div');\n",
              "          docLink.innerHTML = docLinkHtml;\n",
              "          element.appendChild(docLink);\n",
              "        }\n",
              "      </script>\n",
              "    </div>\n",
              "  </div>\n",
              "  "
            ]
          },
          "metadata": {},
          "execution_count": 233
        }
      ]
    },
    {
      "cell_type": "code",
      "source": [
        "df_test"
      ],
      "metadata": {
        "colab": {
          "base_uri": "https://localhost:8080/",
          "height": 488
        },
        "id": "b2iylRQqP6SG",
        "outputId": "9635d8fa-15a0-4741-c3a0-1506860a7cf0"
      },
      "execution_count": null,
      "outputs": [
        {
          "output_type": "execute_result",
          "data": {
            "text/plain": [
              "      policy_id  policy_tenure  age_of_car  age_of_policyholder area_cluster  \\\n",
              "0       ID58593       0.341732    0.000000             0.586538           C3   \n",
              "1       ID58594       0.307241    0.130000             0.442308           C8   \n",
              "2       ID58595       0.327924    0.120000             0.451923           C8   \n",
              "3       ID58596       0.782654    0.010000             0.461538           C5   \n",
              "4       ID58597       1.233404    0.020000             0.634615           C5   \n",
              "...         ...            ...         ...                  ...          ...   \n",
              "39058   ID97651       0.047982    0.150000             0.740385           C2   \n",
              "39059   ID97652       1.224838    0.050000             0.509615           C8   \n",
              "39060   ID97653       0.520287    0.120000             0.355769           C6   \n",
              "39061   ID97654       1.172391    0.080000             0.644231           C5   \n",
              "39062   ID97655       0.094030    0.120000             0.307692           C8   \n",
              "\n",
              "       population_density  make segment model fuel_type  ...  \\\n",
              "0                    4076     1       A    M1       CNG  ...   \n",
              "1                    8794     1      B2    M6    Petrol  ...   \n",
              "2                    8794     2       A    M3    Petrol  ...   \n",
              "3                   34738     1       A    M1       CNG  ...   \n",
              "4                   34738     1       A    M1       CNG  ...   \n",
              "...                   ...   ...     ...   ...       ...  ...   \n",
              "39058               27003     1      B2    M6    Petrol  ...   \n",
              "39059                8794     3      C2    M4    Diesel  ...   \n",
              "39060               13051     1      B2    M7    Petrol  ...   \n",
              "39061               34738     1      C1    M2    Petrol  ...   \n",
              "39062                8794     3      C2    M4    Diesel  ...   \n",
              "\n",
              "      is_rear_window_defogger is_brake_assist is_power_door_locks  \\\n",
              "0                          No              No                  No   \n",
              "1                          No             Yes                 Yes   \n",
              "2                          No              No                 Yes   \n",
              "3                          No              No                  No   \n",
              "4                          No              No                  No   \n",
              "...                       ...             ...                 ...   \n",
              "39058                      No             Yes                 Yes   \n",
              "39059                     Yes             Yes                 Yes   \n",
              "39060                     Yes             Yes                 Yes   \n",
              "39061                     Yes             Yes                 Yes   \n",
              "39062                     Yes             Yes                 Yes   \n",
              "\n",
              "       is_central_locking is_power_steering is_driver_seat_height_adjustable  \\\n",
              "0                      No               Yes                               No   \n",
              "1                     Yes               Yes                              Yes   \n",
              "2                     Yes               Yes                               No   \n",
              "3                      No               Yes                               No   \n",
              "4                      No               Yes                               No   \n",
              "...                   ...               ...                              ...   \n",
              "39058                 Yes               Yes                              Yes   \n",
              "39059                 Yes               Yes                              Yes   \n",
              "39060                 Yes               Yes                              Yes   \n",
              "39061                 Yes               Yes                              Yes   \n",
              "39062                 Yes               Yes                              Yes   \n",
              "\n",
              "      is_day_night_rear_view_mirror is_ecw is_speed_alert ncap_rating  \n",
              "0                                No     No            Yes           0  \n",
              "1                               Yes    Yes            Yes           2  \n",
              "2                               Yes    Yes            Yes           2  \n",
              "3                                No     No            Yes           0  \n",
              "4                                No     No            Yes           0  \n",
              "...                             ...    ...            ...         ...  \n",
              "39058                           Yes    Yes            Yes           2  \n",
              "39059                            No    Yes            Yes           3  \n",
              "39060                           Yes    Yes            Yes           0  \n",
              "39061                           Yes    Yes            Yes           2  \n",
              "39062                            No    Yes            Yes           3  \n",
              "\n",
              "[39063 rows x 43 columns]"
            ],
            "text/html": [
              "\n",
              "  <div id=\"df-3280218c-6682-4109-9b43-77434fadbae3\">\n",
              "    <div class=\"colab-df-container\">\n",
              "      <div>\n",
              "<style scoped>\n",
              "    .dataframe tbody tr th:only-of-type {\n",
              "        vertical-align: middle;\n",
              "    }\n",
              "\n",
              "    .dataframe tbody tr th {\n",
              "        vertical-align: top;\n",
              "    }\n",
              "\n",
              "    .dataframe thead th {\n",
              "        text-align: right;\n",
              "    }\n",
              "</style>\n",
              "<table border=\"1\" class=\"dataframe\">\n",
              "  <thead>\n",
              "    <tr style=\"text-align: right;\">\n",
              "      <th></th>\n",
              "      <th>policy_id</th>\n",
              "      <th>policy_tenure</th>\n",
              "      <th>age_of_car</th>\n",
              "      <th>age_of_policyholder</th>\n",
              "      <th>area_cluster</th>\n",
              "      <th>population_density</th>\n",
              "      <th>make</th>\n",
              "      <th>segment</th>\n",
              "      <th>model</th>\n",
              "      <th>fuel_type</th>\n",
              "      <th>...</th>\n",
              "      <th>is_rear_window_defogger</th>\n",
              "      <th>is_brake_assist</th>\n",
              "      <th>is_power_door_locks</th>\n",
              "      <th>is_central_locking</th>\n",
              "      <th>is_power_steering</th>\n",
              "      <th>is_driver_seat_height_adjustable</th>\n",
              "      <th>is_day_night_rear_view_mirror</th>\n",
              "      <th>is_ecw</th>\n",
              "      <th>is_speed_alert</th>\n",
              "      <th>ncap_rating</th>\n",
              "    </tr>\n",
              "  </thead>\n",
              "  <tbody>\n",
              "    <tr>\n",
              "      <th>0</th>\n",
              "      <td>ID58593</td>\n",
              "      <td>0.341732</td>\n",
              "      <td>0.000000</td>\n",
              "      <td>0.586538</td>\n",
              "      <td>C3</td>\n",
              "      <td>4076</td>\n",
              "      <td>1</td>\n",
              "      <td>A</td>\n",
              "      <td>M1</td>\n",
              "      <td>CNG</td>\n",
              "      <td>...</td>\n",
              "      <td>No</td>\n",
              "      <td>No</td>\n",
              "      <td>No</td>\n",
              "      <td>No</td>\n",
              "      <td>Yes</td>\n",
              "      <td>No</td>\n",
              "      <td>No</td>\n",
              "      <td>No</td>\n",
              "      <td>Yes</td>\n",
              "      <td>0</td>\n",
              "    </tr>\n",
              "    <tr>\n",
              "      <th>1</th>\n",
              "      <td>ID58594</td>\n",
              "      <td>0.307241</td>\n",
              "      <td>0.130000</td>\n",
              "      <td>0.442308</td>\n",
              "      <td>C8</td>\n",
              "      <td>8794</td>\n",
              "      <td>1</td>\n",
              "      <td>B2</td>\n",
              "      <td>M6</td>\n",
              "      <td>Petrol</td>\n",
              "      <td>...</td>\n",
              "      <td>No</td>\n",
              "      <td>Yes</td>\n",
              "      <td>Yes</td>\n",
              "      <td>Yes</td>\n",
              "      <td>Yes</td>\n",
              "      <td>Yes</td>\n",
              "      <td>Yes</td>\n",
              "      <td>Yes</td>\n",
              "      <td>Yes</td>\n",
              "      <td>2</td>\n",
              "    </tr>\n",
              "    <tr>\n",
              "      <th>2</th>\n",
              "      <td>ID58595</td>\n",
              "      <td>0.327924</td>\n",
              "      <td>0.120000</td>\n",
              "      <td>0.451923</td>\n",
              "      <td>C8</td>\n",
              "      <td>8794</td>\n",
              "      <td>2</td>\n",
              "      <td>A</td>\n",
              "      <td>M3</td>\n",
              "      <td>Petrol</td>\n",
              "      <td>...</td>\n",
              "      <td>No</td>\n",
              "      <td>No</td>\n",
              "      <td>Yes</td>\n",
              "      <td>Yes</td>\n",
              "      <td>Yes</td>\n",
              "      <td>No</td>\n",
              "      <td>Yes</td>\n",
              "      <td>Yes</td>\n",
              "      <td>Yes</td>\n",
              "      <td>2</td>\n",
              "    </tr>\n",
              "    <tr>\n",
              "      <th>3</th>\n",
              "      <td>ID58596</td>\n",
              "      <td>0.782654</td>\n",
              "      <td>0.010000</td>\n",
              "      <td>0.461538</td>\n",
              "      <td>C5</td>\n",
              "      <td>34738</td>\n",
              "      <td>1</td>\n",
              "      <td>A</td>\n",
              "      <td>M1</td>\n",
              "      <td>CNG</td>\n",
              "      <td>...</td>\n",
              "      <td>No</td>\n",
              "      <td>No</td>\n",
              "      <td>No</td>\n",
              "      <td>No</td>\n",
              "      <td>Yes</td>\n",
              "      <td>No</td>\n",
              "      <td>No</td>\n",
              "      <td>No</td>\n",
              "      <td>Yes</td>\n",
              "      <td>0</td>\n",
              "    </tr>\n",
              "    <tr>\n",
              "      <th>4</th>\n",
              "      <td>ID58597</td>\n",
              "      <td>1.233404</td>\n",
              "      <td>0.020000</td>\n",
              "      <td>0.634615</td>\n",
              "      <td>C5</td>\n",
              "      <td>34738</td>\n",
              "      <td>1</td>\n",
              "      <td>A</td>\n",
              "      <td>M1</td>\n",
              "      <td>CNG</td>\n",
              "      <td>...</td>\n",
              "      <td>No</td>\n",
              "      <td>No</td>\n",
              "      <td>No</td>\n",
              "      <td>No</td>\n",
              "      <td>Yes</td>\n",
              "      <td>No</td>\n",
              "      <td>No</td>\n",
              "      <td>No</td>\n",
              "      <td>Yes</td>\n",
              "      <td>0</td>\n",
              "    </tr>\n",
              "    <tr>\n",
              "      <th>...</th>\n",
              "      <td>...</td>\n",
              "      <td>...</td>\n",
              "      <td>...</td>\n",
              "      <td>...</td>\n",
              "      <td>...</td>\n",
              "      <td>...</td>\n",
              "      <td>...</td>\n",
              "      <td>...</td>\n",
              "      <td>...</td>\n",
              "      <td>...</td>\n",
              "      <td>...</td>\n",
              "      <td>...</td>\n",
              "      <td>...</td>\n",
              "      <td>...</td>\n",
              "      <td>...</td>\n",
              "      <td>...</td>\n",
              "      <td>...</td>\n",
              "      <td>...</td>\n",
              "      <td>...</td>\n",
              "      <td>...</td>\n",
              "      <td>...</td>\n",
              "    </tr>\n",
              "    <tr>\n",
              "      <th>39058</th>\n",
              "      <td>ID97651</td>\n",
              "      <td>0.047982</td>\n",
              "      <td>0.150000</td>\n",
              "      <td>0.740385</td>\n",
              "      <td>C2</td>\n",
              "      <td>27003</td>\n",
              "      <td>1</td>\n",
              "      <td>B2</td>\n",
              "      <td>M6</td>\n",
              "      <td>Petrol</td>\n",
              "      <td>...</td>\n",
              "      <td>No</td>\n",
              "      <td>Yes</td>\n",
              "      <td>Yes</td>\n",
              "      <td>Yes</td>\n",
              "      <td>Yes</td>\n",
              "      <td>Yes</td>\n",
              "      <td>Yes</td>\n",
              "      <td>Yes</td>\n",
              "      <td>Yes</td>\n",
              "      <td>2</td>\n",
              "    </tr>\n",
              "    <tr>\n",
              "      <th>39059</th>\n",
              "      <td>ID97652</td>\n",
              "      <td>1.224838</td>\n",
              "      <td>0.050000</td>\n",
              "      <td>0.509615</td>\n",
              "      <td>C8</td>\n",
              "      <td>8794</td>\n",
              "      <td>3</td>\n",
              "      <td>C2</td>\n",
              "      <td>M4</td>\n",
              "      <td>Diesel</td>\n",
              "      <td>...</td>\n",
              "      <td>Yes</td>\n",
              "      <td>Yes</td>\n",
              "      <td>Yes</td>\n",
              "      <td>Yes</td>\n",
              "      <td>Yes</td>\n",
              "      <td>Yes</td>\n",
              "      <td>No</td>\n",
              "      <td>Yes</td>\n",
              "      <td>Yes</td>\n",
              "      <td>3</td>\n",
              "    </tr>\n",
              "    <tr>\n",
              "      <th>39060</th>\n",
              "      <td>ID97653</td>\n",
              "      <td>0.520287</td>\n",
              "      <td>0.120000</td>\n",
              "      <td>0.355769</td>\n",
              "      <td>C6</td>\n",
              "      <td>13051</td>\n",
              "      <td>1</td>\n",
              "      <td>B2</td>\n",
              "      <td>M7</td>\n",
              "      <td>Petrol</td>\n",
              "      <td>...</td>\n",
              "      <td>Yes</td>\n",
              "      <td>Yes</td>\n",
              "      <td>Yes</td>\n",
              "      <td>Yes</td>\n",
              "      <td>Yes</td>\n",
              "      <td>Yes</td>\n",
              "      <td>Yes</td>\n",
              "      <td>Yes</td>\n",
              "      <td>Yes</td>\n",
              "      <td>0</td>\n",
              "    </tr>\n",
              "    <tr>\n",
              "      <th>39061</th>\n",
              "      <td>ID97654</td>\n",
              "      <td>1.172391</td>\n",
              "      <td>0.080000</td>\n",
              "      <td>0.644231</td>\n",
              "      <td>C5</td>\n",
              "      <td>34738</td>\n",
              "      <td>1</td>\n",
              "      <td>C1</td>\n",
              "      <td>M2</td>\n",
              "      <td>Petrol</td>\n",
              "      <td>...</td>\n",
              "      <td>Yes</td>\n",
              "      <td>Yes</td>\n",
              "      <td>Yes</td>\n",
              "      <td>Yes</td>\n",
              "      <td>Yes</td>\n",
              "      <td>Yes</td>\n",
              "      <td>Yes</td>\n",
              "      <td>Yes</td>\n",
              "      <td>Yes</td>\n",
              "      <td>2</td>\n",
              "    </tr>\n",
              "    <tr>\n",
              "      <th>39062</th>\n",
              "      <td>ID97655</td>\n",
              "      <td>0.094030</td>\n",
              "      <td>0.120000</td>\n",
              "      <td>0.307692</td>\n",
              "      <td>C8</td>\n",
              "      <td>8794</td>\n",
              "      <td>3</td>\n",
              "      <td>C2</td>\n",
              "      <td>M4</td>\n",
              "      <td>Diesel</td>\n",
              "      <td>...</td>\n",
              "      <td>Yes</td>\n",
              "      <td>Yes</td>\n",
              "      <td>Yes</td>\n",
              "      <td>Yes</td>\n",
              "      <td>Yes</td>\n",
              "      <td>Yes</td>\n",
              "      <td>No</td>\n",
              "      <td>Yes</td>\n",
              "      <td>Yes</td>\n",
              "      <td>3</td>\n",
              "    </tr>\n",
              "  </tbody>\n",
              "</table>\n",
              "<p>39063 rows × 43 columns</p>\n",
              "</div>\n",
              "      <button class=\"colab-df-convert\" onclick=\"convertToInteractive('df-3280218c-6682-4109-9b43-77434fadbae3')\"\n",
              "              title=\"Convert this dataframe to an interactive table.\"\n",
              "              style=\"display:none;\">\n",
              "        \n",
              "  <svg xmlns=\"http://www.w3.org/2000/svg\" height=\"24px\"viewBox=\"0 0 24 24\"\n",
              "       width=\"24px\">\n",
              "    <path d=\"M0 0h24v24H0V0z\" fill=\"none\"/>\n",
              "    <path d=\"M18.56 5.44l.94 2.06.94-2.06 2.06-.94-2.06-.94-.94-2.06-.94 2.06-2.06.94zm-11 1L8.5 8.5l.94-2.06 2.06-.94-2.06-.94L8.5 2.5l-.94 2.06-2.06.94zm10 10l.94 2.06.94-2.06 2.06-.94-2.06-.94-.94-2.06-.94 2.06-2.06.94z\"/><path d=\"M17.41 7.96l-1.37-1.37c-.4-.4-.92-.59-1.43-.59-.52 0-1.04.2-1.43.59L10.3 9.45l-7.72 7.72c-.78.78-.78 2.05 0 2.83L4 21.41c.39.39.9.59 1.41.59.51 0 1.02-.2 1.41-.59l7.78-7.78 2.81-2.81c.8-.78.8-2.07 0-2.86zM5.41 20L4 18.59l7.72-7.72 1.47 1.35L5.41 20z\"/>\n",
              "  </svg>\n",
              "      </button>\n",
              "      \n",
              "  <style>\n",
              "    .colab-df-container {\n",
              "      display:flex;\n",
              "      flex-wrap:wrap;\n",
              "      gap: 12px;\n",
              "    }\n",
              "\n",
              "    .colab-df-convert {\n",
              "      background-color: #E8F0FE;\n",
              "      border: none;\n",
              "      border-radius: 50%;\n",
              "      cursor: pointer;\n",
              "      display: none;\n",
              "      fill: #1967D2;\n",
              "      height: 32px;\n",
              "      padding: 0 0 0 0;\n",
              "      width: 32px;\n",
              "    }\n",
              "\n",
              "    .colab-df-convert:hover {\n",
              "      background-color: #E2EBFA;\n",
              "      box-shadow: 0px 1px 2px rgba(60, 64, 67, 0.3), 0px 1px 3px 1px rgba(60, 64, 67, 0.15);\n",
              "      fill: #174EA6;\n",
              "    }\n",
              "\n",
              "    [theme=dark] .colab-df-convert {\n",
              "      background-color: #3B4455;\n",
              "      fill: #D2E3FC;\n",
              "    }\n",
              "\n",
              "    [theme=dark] .colab-df-convert:hover {\n",
              "      background-color: #434B5C;\n",
              "      box-shadow: 0px 1px 3px 1px rgba(0, 0, 0, 0.15);\n",
              "      filter: drop-shadow(0px 1px 2px rgba(0, 0, 0, 0.3));\n",
              "      fill: #FFFFFF;\n",
              "    }\n",
              "  </style>\n",
              "\n",
              "      <script>\n",
              "        const buttonEl =\n",
              "          document.querySelector('#df-3280218c-6682-4109-9b43-77434fadbae3 button.colab-df-convert');\n",
              "        buttonEl.style.display =\n",
              "          google.colab.kernel.accessAllowed ? 'block' : 'none';\n",
              "\n",
              "        async function convertToInteractive(key) {\n",
              "          const element = document.querySelector('#df-3280218c-6682-4109-9b43-77434fadbae3');\n",
              "          const dataTable =\n",
              "            await google.colab.kernel.invokeFunction('convertToInteractive',\n",
              "                                                     [key], {});\n",
              "          if (!dataTable) return;\n",
              "\n",
              "          const docLinkHtml = 'Like what you see? Visit the ' +\n",
              "            '<a target=\"_blank\" href=https://colab.research.google.com/notebooks/data_table.ipynb>data table notebook</a>'\n",
              "            + ' to learn more about interactive tables.';\n",
              "          element.innerHTML = '';\n",
              "          dataTable['output_type'] = 'display_data';\n",
              "          await google.colab.output.renderOutput(dataTable, element);\n",
              "          const docLink = document.createElement('div');\n",
              "          docLink.innerHTML = docLinkHtml;\n",
              "          element.appendChild(docLink);\n",
              "        }\n",
              "      </script>\n",
              "    </div>\n",
              "  </div>\n",
              "  "
            ]
          },
          "metadata": {},
          "execution_count": 234
        }
      ]
    },
    {
      "cell_type": "code",
      "source": [
        "df.isnull().sum()"
      ],
      "metadata": {
        "colab": {
          "base_uri": "https://localhost:8080/"
        },
        "id": "ZgIFkGT45ulY",
        "outputId": "dea66cbd-3412-4fbd-e1ce-283b8cb502c0"
      },
      "execution_count": null,
      "outputs": [
        {
          "output_type": "execute_result",
          "data": {
            "text/plain": [
              "policy_id                           0\n",
              "policy_tenure                       0\n",
              "age_of_car                          0\n",
              "age_of_policyholder                 0\n",
              "area_cluster                        0\n",
              "population_density                  0\n",
              "make                                0\n",
              "segment                             0\n",
              "model                               0\n",
              "fuel_type                           0\n",
              "max_torque                          0\n",
              "max_power                           0\n",
              "engine_type                         0\n",
              "airbags                             0\n",
              "is_esc                              0\n",
              "is_adjustable_steering              0\n",
              "is_tpms                             0\n",
              "is_parking_sensors                  0\n",
              "is_parking_camera                   0\n",
              "rear_brakes_type                    0\n",
              "displacement                        0\n",
              "cylinder                            0\n",
              "transmission_type                   0\n",
              "gear_box                            0\n",
              "steering_type                       0\n",
              "turning_radius                      0\n",
              "length                              0\n",
              "width                               0\n",
              "height                              0\n",
              "gross_weight                        0\n",
              "is_front_fog_lights                 0\n",
              "is_rear_window_wiper                0\n",
              "is_rear_window_washer               0\n",
              "is_rear_window_defogger             0\n",
              "is_brake_assist                     0\n",
              "is_power_door_locks                 0\n",
              "is_central_locking                  0\n",
              "is_power_steering                   0\n",
              "is_driver_seat_height_adjustable    0\n",
              "is_day_night_rear_view_mirror       0\n",
              "is_ecw                              0\n",
              "is_speed_alert                      0\n",
              "ncap_rating                         0\n",
              "is_claim                            0\n",
              "dtype: int64"
            ]
          },
          "metadata": {},
          "execution_count": 235
        }
      ]
    },
    {
      "cell_type": "code",
      "source": [
        "df_test.isnull().sum()"
      ],
      "metadata": {
        "colab": {
          "base_uri": "https://localhost:8080/"
        },
        "id": "AaUpvLy9P91Y",
        "outputId": "b9448eed-0f97-4f86-f0dc-5fe607238d5b"
      },
      "execution_count": null,
      "outputs": [
        {
          "output_type": "execute_result",
          "data": {
            "text/plain": [
              "policy_id                           0\n",
              "policy_tenure                       0\n",
              "age_of_car                          0\n",
              "age_of_policyholder                 0\n",
              "area_cluster                        0\n",
              "population_density                  0\n",
              "make                                0\n",
              "segment                             0\n",
              "model                               0\n",
              "fuel_type                           0\n",
              "max_torque                          0\n",
              "max_power                           0\n",
              "engine_type                         0\n",
              "airbags                             0\n",
              "is_esc                              0\n",
              "is_adjustable_steering              0\n",
              "is_tpms                             0\n",
              "is_parking_sensors                  0\n",
              "is_parking_camera                   0\n",
              "rear_brakes_type                    0\n",
              "displacement                        0\n",
              "cylinder                            0\n",
              "transmission_type                   0\n",
              "gear_box                            0\n",
              "steering_type                       0\n",
              "turning_radius                      0\n",
              "length                              0\n",
              "width                               0\n",
              "height                              0\n",
              "gross_weight                        0\n",
              "is_front_fog_lights                 0\n",
              "is_rear_window_wiper                0\n",
              "is_rear_window_washer               0\n",
              "is_rear_window_defogger             0\n",
              "is_brake_assist                     0\n",
              "is_power_door_locks                 0\n",
              "is_central_locking                  0\n",
              "is_power_steering                   0\n",
              "is_driver_seat_height_adjustable    0\n",
              "is_day_night_rear_view_mirror       0\n",
              "is_ecw                              0\n",
              "is_speed_alert                      0\n",
              "ncap_rating                         0\n",
              "dtype: int64"
            ]
          },
          "metadata": {},
          "execution_count": 236
        }
      ]
    },
    {
      "cell_type": "code",
      "source": [
        "df.duplicated().sum()"
      ],
      "metadata": {
        "colab": {
          "base_uri": "https://localhost:8080/"
        },
        "id": "EbFkLDkj6G8X",
        "outputId": "aba0e0fa-0fae-41c6-a266-b176da21d25a"
      },
      "execution_count": null,
      "outputs": [
        {
          "output_type": "execute_result",
          "data": {
            "text/plain": [
              "0"
            ]
          },
          "metadata": {},
          "execution_count": 237
        }
      ]
    },
    {
      "cell_type": "code",
      "source": [
        "df_test.duplicated().sum()"
      ],
      "metadata": {
        "colab": {
          "base_uri": "https://localhost:8080/"
        },
        "id": "_UUDbhuGQFDS",
        "outputId": "a11e06fd-4211-49c1-b711-c8abe19cb443"
      },
      "execution_count": null,
      "outputs": [
        {
          "output_type": "execute_result",
          "data": {
            "text/plain": [
              "0"
            ]
          },
          "metadata": {},
          "execution_count": 238
        }
      ]
    },
    {
      "cell_type": "code",
      "source": [
        "df.info()"
      ],
      "metadata": {
        "colab": {
          "base_uri": "https://localhost:8080/"
        },
        "id": "GMYhd8Lw6MSv",
        "outputId": "6dd75425-c5eb-4c3c-a797-aac0e431796f"
      },
      "execution_count": null,
      "outputs": [
        {
          "output_type": "stream",
          "name": "stdout",
          "text": [
            "<class 'pandas.core.frame.DataFrame'>\n",
            "RangeIndex: 58592 entries, 0 to 58591\n",
            "Data columns (total 44 columns):\n",
            " #   Column                            Non-Null Count  Dtype  \n",
            "---  ------                            --------------  -----  \n",
            " 0   policy_id                         58592 non-null  object \n",
            " 1   policy_tenure                     58592 non-null  float64\n",
            " 2   age_of_car                        58592 non-null  float64\n",
            " 3   age_of_policyholder               58592 non-null  float64\n",
            " 4   area_cluster                      58592 non-null  object \n",
            " 5   population_density                58592 non-null  int64  \n",
            " 6   make                              58592 non-null  int64  \n",
            " 7   segment                           58592 non-null  object \n",
            " 8   model                             58592 non-null  object \n",
            " 9   fuel_type                         58592 non-null  object \n",
            " 10  max_torque                        58592 non-null  object \n",
            " 11  max_power                         58592 non-null  object \n",
            " 12  engine_type                       58592 non-null  object \n",
            " 13  airbags                           58592 non-null  int64  \n",
            " 14  is_esc                            58592 non-null  object \n",
            " 15  is_adjustable_steering            58592 non-null  object \n",
            " 16  is_tpms                           58592 non-null  object \n",
            " 17  is_parking_sensors                58592 non-null  object \n",
            " 18  is_parking_camera                 58592 non-null  object \n",
            " 19  rear_brakes_type                  58592 non-null  object \n",
            " 20  displacement                      58592 non-null  int64  \n",
            " 21  cylinder                          58592 non-null  int64  \n",
            " 22  transmission_type                 58592 non-null  object \n",
            " 23  gear_box                          58592 non-null  int64  \n",
            " 24  steering_type                     58592 non-null  object \n",
            " 25  turning_radius                    58592 non-null  float64\n",
            " 26  length                            58592 non-null  int64  \n",
            " 27  width                             58592 non-null  int64  \n",
            " 28  height                            58592 non-null  int64  \n",
            " 29  gross_weight                      58592 non-null  int64  \n",
            " 30  is_front_fog_lights               58592 non-null  object \n",
            " 31  is_rear_window_wiper              58592 non-null  object \n",
            " 32  is_rear_window_washer             58592 non-null  object \n",
            " 33  is_rear_window_defogger           58592 non-null  object \n",
            " 34  is_brake_assist                   58592 non-null  object \n",
            " 35  is_power_door_locks               58592 non-null  object \n",
            " 36  is_central_locking                58592 non-null  object \n",
            " 37  is_power_steering                 58592 non-null  object \n",
            " 38  is_driver_seat_height_adjustable  58592 non-null  object \n",
            " 39  is_day_night_rear_view_mirror     58592 non-null  object \n",
            " 40  is_ecw                            58592 non-null  object \n",
            " 41  is_speed_alert                    58592 non-null  object \n",
            " 42  ncap_rating                       58592 non-null  int64  \n",
            " 43  is_claim                          58592 non-null  int64  \n",
            "dtypes: float64(4), int64(12), object(28)\n",
            "memory usage: 19.7+ MB\n"
          ]
        }
      ]
    },
    {
      "cell_type": "code",
      "source": [
        "df_test.info()"
      ],
      "metadata": {
        "colab": {
          "base_uri": "https://localhost:8080/"
        },
        "id": "oVFyWTGiQJf2",
        "outputId": "e5ac654c-0703-4480-c426-4c303c91f741"
      },
      "execution_count": null,
      "outputs": [
        {
          "output_type": "stream",
          "name": "stdout",
          "text": [
            "<class 'pandas.core.frame.DataFrame'>\n",
            "RangeIndex: 39063 entries, 0 to 39062\n",
            "Data columns (total 43 columns):\n",
            " #   Column                            Non-Null Count  Dtype  \n",
            "---  ------                            --------------  -----  \n",
            " 0   policy_id                         39063 non-null  object \n",
            " 1   policy_tenure                     39063 non-null  float64\n",
            " 2   age_of_car                        39063 non-null  float64\n",
            " 3   age_of_policyholder               39063 non-null  float64\n",
            " 4   area_cluster                      39063 non-null  object \n",
            " 5   population_density                39063 non-null  int64  \n",
            " 6   make                              39063 non-null  int64  \n",
            " 7   segment                           39063 non-null  object \n",
            " 8   model                             39063 non-null  object \n",
            " 9   fuel_type                         39063 non-null  object \n",
            " 10  max_torque                        39063 non-null  object \n",
            " 11  max_power                         39063 non-null  object \n",
            " 12  engine_type                       39063 non-null  object \n",
            " 13  airbags                           39063 non-null  int64  \n",
            " 14  is_esc                            39063 non-null  object \n",
            " 15  is_adjustable_steering            39063 non-null  object \n",
            " 16  is_tpms                           39063 non-null  object \n",
            " 17  is_parking_sensors                39063 non-null  object \n",
            " 18  is_parking_camera                 39063 non-null  object \n",
            " 19  rear_brakes_type                  39063 non-null  object \n",
            " 20  displacement                      39063 non-null  int64  \n",
            " 21  cylinder                          39063 non-null  int64  \n",
            " 22  transmission_type                 39063 non-null  object \n",
            " 23  gear_box                          39063 non-null  int64  \n",
            " 24  steering_type                     39063 non-null  object \n",
            " 25  turning_radius                    39063 non-null  float64\n",
            " 26  length                            39063 non-null  int64  \n",
            " 27  width                             39063 non-null  int64  \n",
            " 28  height                            39063 non-null  int64  \n",
            " 29  gross_weight                      39063 non-null  int64  \n",
            " 30  is_front_fog_lights               39063 non-null  object \n",
            " 31  is_rear_window_wiper              39063 non-null  object \n",
            " 32  is_rear_window_washer             39063 non-null  object \n",
            " 33  is_rear_window_defogger           39063 non-null  object \n",
            " 34  is_brake_assist                   39063 non-null  object \n",
            " 35  is_power_door_locks               39063 non-null  object \n",
            " 36  is_central_locking                39063 non-null  object \n",
            " 37  is_power_steering                 39063 non-null  object \n",
            " 38  is_driver_seat_height_adjustable  39063 non-null  object \n",
            " 39  is_day_night_rear_view_mirror     39063 non-null  object \n",
            " 40  is_ecw                            39063 non-null  object \n",
            " 41  is_speed_alert                    39063 non-null  object \n",
            " 42  ncap_rating                       39063 non-null  int64  \n",
            "dtypes: float64(4), int64(11), object(28)\n",
            "memory usage: 12.8+ MB\n"
          ]
        }
      ]
    },
    {
      "cell_type": "code",
      "source": [
        "df.is_claim.value_counts()"
      ],
      "metadata": {
        "colab": {
          "base_uri": "https://localhost:8080/"
        },
        "id": "IK7LT_iY6XDg",
        "outputId": "a1c6d65b-8c2a-4bc6-c100-2495c8a04ad1"
      },
      "execution_count": null,
      "outputs": [
        {
          "output_type": "execute_result",
          "data": {
            "text/plain": [
              "0    54844\n",
              "1     3748\n",
              "Name: is_claim, dtype: int64"
            ]
          },
          "metadata": {},
          "execution_count": 241
        }
      ]
    },
    {
      "cell_type": "code",
      "source": [
        "# set the plot size\n",
        "plt.rcParams['figure.figsize']=(50,50)\n",
        "#numeric column datatype\n",
        "df_numeric = df.select_dtypes(include=np.number)\n",
        "df_numeric.hist()\n",
        "# show plot\n",
        "plt.show()"
      ],
      "metadata": {
        "colab": {
          "base_uri": "https://localhost:8080/",
          "height": 1000
        },
        "id": "LfjVzb-86gBP",
        "outputId": "fc859576-446f-4db1-db65-8a3df6b6b996"
      },
      "execution_count": null,
      "outputs": [
        {
          "output_type": "display_data",
          "data": {
            "text/plain": [
              "<Figure size 3600x3600 with 16 Axes>"
            ],
            "image/png": "[encoded data removed]"
          },
          "metadata": {}
        }
      ]
    },
    {
      "cell_type": "code",
      "source": [
        "sns.set(rc={\"figure.figsize\":(6, 10)})\n",
        "df.boxplot('population_density')"
      ],
      "metadata": {
        "colab": {
          "base_uri": "https://localhost:8080/",
          "height": 612
        },
        "id": "MPDuzoZc6oNo",
        "outputId": "a685f80b-ef26-4ced-a4e2-5e16fa24b4f9"
      },
      "execution_count": null,
      "outputs": [
        {
          "output_type": "execute_result",
          "data": {
            "text/plain": [
              "<matplotlib.axes._subplots.AxesSubplot at 0x7fbdd1398c90>"
            ]
          },
          "metadata": {},
          "execution_count": 243
        },
        {
          "output_type": "display_data",
          "data": {
            "text/plain": [
              "<Figure size 432x720 with 1 Axes>"
            ],
            "image/png": "[encoded data removed]"
          },
          "metadata": {}
        }
      ]
    },
    {
      "cell_type": "code",
      "source": [
        "df_numeric_test = df.select_dtypes(include=np.number)"
      ],
      "metadata": {
        "id": "IgZhStm-QZfG"
      },
      "execution_count": null,
      "outputs": []
    },
    {
      "cell_type": "code",
      "source": [
        "df_numeric.info()"
      ],
      "metadata": {
        "colab": {
          "base_uri": "https://localhost:8080/"
        },
        "id": "76GFDMcc-yb5",
        "outputId": "2fa4365d-1f94-468f-a52d-3496ec3f46b3"
      },
      "execution_count": null,
      "outputs": [
        {
          "output_type": "stream",
          "name": "stdout",
          "text": [
            "<class 'pandas.core.frame.DataFrame'>\n",
            "RangeIndex: 58592 entries, 0 to 58591\n",
            "Data columns (total 16 columns):\n",
            " #   Column               Non-Null Count  Dtype  \n",
            "---  ------               --------------  -----  \n",
            " 0   policy_tenure        58592 non-null  float64\n",
            " 1   age_of_car           58592 non-null  float64\n",
            " 2   age_of_policyholder  58592 non-null  float64\n",
            " 3   population_density   58592 non-null  int64  \n",
            " 4   make                 58592 non-null  int64  \n",
            " 5   airbags              58592 non-null  int64  \n",
            " 6   displacement         58592 non-null  int64  \n",
            " 7   cylinder             58592 non-null  int64  \n",
            " 8   gear_box             58592 non-null  int64  \n",
            " 9   turning_radius       58592 non-null  float64\n",
            " 10  length               58592 non-null  int64  \n",
            " 11  width                58592 non-null  int64  \n",
            " 12  height               58592 non-null  int64  \n",
            " 13  gross_weight         58592 non-null  int64  \n",
            " 14  ncap_rating          58592 non-null  int64  \n",
            " 15  is_claim             58592 non-null  int64  \n",
            "dtypes: float64(4), int64(12)\n",
            "memory usage: 7.2 MB\n"
          ]
        }
      ]
    },
    {
      "cell_type": "code",
      "source": [
        "num_col = df[['policy_tenure','age_of_car','age_of_policyholder','population_density','is_claim']]"
      ],
      "metadata": {
        "id": "ZxuZUrjj_D5H"
      },
      "execution_count": null,
      "outputs": []
    },
    {
      "cell_type": "code",
      "source": [
        "num_col.corr()"
      ],
      "metadata": {
        "colab": {
          "base_uri": "https://localhost:8080/",
          "height": 206
        },
        "id": "m7oCJcMg_yAY",
        "outputId": "d46f0d5a-1152-4cc6-de8f-8699ca7f4fee"
      },
      "execution_count": null,
      "outputs": [
        {
          "output_type": "execute_result",
          "data": {
            "text/plain": [
              "                     policy_tenure  age_of_car  age_of_policyholder  \\\n",
              "policy_tenure             1.000000    0.166312             0.143676   \n",
              "age_of_car                0.166312    1.000000            -0.035427   \n",
              "age_of_policyholder       0.143676   -0.035427             1.000000   \n",
              "population_density       -0.100307   -0.062255             0.009669   \n",
              "is_claim                  0.078747   -0.028172             0.022435   \n",
              "\n",
              "                     population_density  is_claim  \n",
              "policy_tenure                 -0.100307  0.078747  \n",
              "age_of_car                    -0.062255 -0.028172  \n",
              "age_of_policyholder            0.009669  0.022435  \n",
              "population_density             1.000000 -0.017808  \n",
              "is_claim                      -0.017808  1.000000  "
            ],
            "text/html": [
              "\n",
              "  <div id=\"df-d6143015-a4bc-4077-9390-fff5aaad6a33\">\n",
              "    <div class=\"colab-df-container\">\n",
              "      <div>\n",
              "<style scoped>\n",
              "    .dataframe tbody tr th:only-of-type {\n",
              "        vertical-align: middle;\n",
              "    }\n",
              "\n",
              "    .dataframe tbody tr th {\n",
              "        vertical-align: top;\n",
              "    }\n",
              "\n",
              "    .dataframe thead th {\n",
              "        text-align: right;\n",
              "    }\n",
              "</style>\n",
              "<table border=\"1\" class=\"dataframe\">\n",
              "  <thead>\n",
              "    <tr style=\"text-align: right;\">\n",
              "      <th></th>\n",
              "      <th>policy_tenure</th>\n",
              "      <th>age_of_car</th>\n",
              "      <th>age_of_policyholder</th>\n",
              "      <th>population_density</th>\n",
              "      <th>is_claim</th>\n",
              "    </tr>\n",
              "  </thead>\n",
              "  <tbody>\n",
              "    <tr>\n",
              "      <th>policy_tenure</th>\n",
              "      <td>1.000000</td>\n",
              "      <td>0.166312</td>\n",
              "      <td>0.143676</td>\n",
              "      <td>-0.100307</td>\n",
              "      <td>0.078747</td>\n",
              "    </tr>\n",
              "    <tr>\n",
              "      <th>age_of_car</th>\n",
              "      <td>0.166312</td>\n",
              "      <td>1.000000</td>\n",
              "      <td>-0.035427</td>\n",
              "      <td>-0.062255</td>\n",
              "      <td>-0.028172</td>\n",
              "    </tr>\n",
              "    <tr>\n",
              "      <th>age_of_policyholder</th>\n",
              "      <td>0.143676</td>\n",
              "      <td>-0.035427</td>\n",
              "      <td>1.000000</td>\n",
              "      <td>0.009669</td>\n",
              "      <td>0.022435</td>\n",
              "    </tr>\n",
              "    <tr>\n",
              "      <th>population_density</th>\n",
              "      <td>-0.100307</td>\n",
              "      <td>-0.062255</td>\n",
              "      <td>0.009669</td>\n",
              "      <td>1.000000</td>\n",
              "      <td>-0.017808</td>\n",
              "    </tr>\n",
              "    <tr>\n",
              "      <th>is_claim</th>\n",
              "      <td>0.078747</td>\n",
              "      <td>-0.028172</td>\n",
              "      <td>0.022435</td>\n",
              "      <td>-0.017808</td>\n",
              "      <td>1.000000</td>\n",
              "    </tr>\n",
              "  </tbody>\n",
              "</table>\n",
              "</div>\n",
              "      <button class=\"colab-df-convert\" onclick=\"convertToInteractive('df-d6143015-a4bc-4077-9390-fff5aaad6a33')\"\n",
              "              title=\"Convert this dataframe to an interactive table.\"\n",
              "              style=\"display:none;\">\n",
              "        \n",
              "  <svg xmlns=\"http://www.w3.org/2000/svg\" height=\"24px\"viewBox=\"0 0 24 24\"\n",
              "       width=\"24px\">\n",
              "    <path d=\"M0 0h24v24H0V0z\" fill=\"none\"/>\n",
              "    <path d=\"M18.56 5.44l.94 2.06.94-2.06 2.06-.94-2.06-.94-.94-2.06-.94 2.06-2.06.94zm-11 1L8.5 8.5l.94-2.06 2.06-.94-2.06-.94L8.5 2.5l-.94 2.06-2.06.94zm10 10l.94 2.06.94-2.06 2.06-.94-2.06-.94-.94-2.06-.94 2.06-2.06.94z\"/><path d=\"M17.41 7.96l-1.37-1.37c-.4-.4-.92-.59-1.43-.59-.52 0-1.04.2-1.43.59L10.3 9.45l-7.72 7.72c-.78.78-.78 2.05 0 2.83L4 21.41c.39.39.9.59 1.41.59.51 0 1.02-.2 1.41-.59l7.78-7.78 2.81-2.81c.8-.78.8-2.07 0-2.86zM5.41 20L4 18.59l7.72-7.72 1.47 1.35L5.41 20z\"/>\n",
              "  </svg>\n",
              "      </button>\n",
              "      \n",
              "  <style>\n",
              "    .colab-df-container {\n",
              "      display:flex;\n",
              "      flex-wrap:wrap;\n",
              "      gap: 12px;\n",
              "    }\n",
              "\n",
              "    .colab-df-convert {\n",
              "      background-color: #E8F0FE;\n",
              "      border: none;\n",
              "      border-radius: 50%;\n",
              "      cursor: pointer;\n",
              "      display: none;\n",
              "      fill: #1967D2;\n",
              "      height: 32px;\n",
              "      padding: 0 0 0 0;\n",
              "      width: 32px;\n",
              "    }\n",
              "\n",
              "    .colab-df-convert:hover {\n",
              "      background-color: #E2EBFA;\n",
              "      box-shadow: 0px 1px 2px rgba(60, 64, 67, 0.3), 0px 1px 3px 1px rgba(60, 64, 67, 0.15);\n",
              "      fill: #174EA6;\n",
              "    }\n",
              "\n",
              "    [theme=dark] .colab-df-convert {\n",
              "      background-color: #3B4455;\n",
              "      fill: #D2E3FC;\n",
              "    }\n",
              "\n",
              "    [theme=dark] .colab-df-convert:hover {\n",
              "      background-color: #434B5C;\n",
              "      box-shadow: 0px 1px 3px 1px rgba(0, 0, 0, 0.15);\n",
              "      filter: drop-shadow(0px 1px 2px rgba(0, 0, 0, 0.3));\n",
              "      fill: #FFFFFF;\n",
              "    }\n",
              "  </style>\n",
              "\n",
              "      <script>\n",
              "        const buttonEl =\n",
              "          document.querySelector('#df-d6143015-a4bc-4077-9390-fff5aaad6a33 button.colab-df-convert');\n",
              "        buttonEl.style.display =\n",
              "          google.colab.kernel.accessAllowed ? 'block' : 'none';\n",
              "\n",
              "        async function convertToInteractive(key) {\n",
              "          const element = document.querySelector('#df-d6143015-a4bc-4077-9390-fff5aaad6a33');\n",
              "          const dataTable =\n",
              "            await google.colab.kernel.invokeFunction('convertToInteractive',\n",
              "                                                     [key], {});\n",
              "          if (!dataTable) return;\n",
              "\n",
              "          const docLinkHtml = 'Like what you see? Visit the ' +\n",
              "            '<a target=\"_blank\" href=https://colab.research.google.com/notebooks/data_table.ipynb>data table notebook</a>'\n",
              "            + ' to learn more about interactive tables.';\n",
              "          element.innerHTML = '';\n",
              "          dataTable['output_type'] = 'display_data';\n",
              "          await google.colab.output.renderOutput(dataTable, element);\n",
              "          const docLink = document.createElement('div');\n",
              "          docLink.innerHTML = docLinkHtml;\n",
              "          element.appendChild(docLink);\n",
              "        }\n",
              "      </script>\n",
              "    </div>\n",
              "  </div>\n",
              "  "
            ]
          },
          "metadata": {},
          "execution_count": 247
        }
      ]
    },
    {
      "cell_type": "markdown",
      "source": [
        "These are the columns that are boolean in nature so we will replace the value of ‘Yes’ with 1 and ‘No’ with 0.\n",
        "\n",
        "['is_esc', 'is_adjustable_steering', 'is_tpms', 'is_parking_sensors', 'is_parking_camera',\n",
        " 'is_front_fog_lights', 'is_rear_window_wiper', 'is_rear_window_washer', 'is_rear_window_defogger', 'is_brake_assist', 'is_power_door_locks','is_central_locking','is_power_steering',\n",
        "'is_driver_seat_height_adjustable', 'is_day_night_rear_view_mirror','is_ecw', 'is_speed_alert']\n",
        "\n",
        "For the mentioned columns we will do one-hot encoding as these are independent values inside it.\n",
        "['area_cluster', 'segment', 'model', 'fuel_type', 'rear_brakes_type', 'engine_type']\n",
        "\n",
        "Ordinal columns\n",
        "These are columns we replace the value in terms of there priority value\n",
        "Columns : ['transmission_type', 'steering_type']\n",
        "Ex:      {'Manual': 1, 'Automatic': 2}\n",
        "{'Manual': 1, 'Power': 2, 'Electric': 3}\n",
        "\n",
        "Compound Features\n",
        "\t['max_torque', 'max_power']: These features are split into 4 numerical features."
      ],
      "metadata": {
        "id": "FLwiTS3yG4eD"
      }
    },
    {
      "cell_type": "code",
      "source": [
        "df.info()"
      ],
      "metadata": {
        "colab": {
          "base_uri": "https://localhost:8080/"
        },
        "id": "N8XYM6H7HHN1",
        "outputId": "2b5d86e6-1dba-4a5d-bddb-67a3c0a03170"
      },
      "execution_count": null,
      "outputs": [
        {
          "output_type": "stream",
          "name": "stdout",
          "text": [
            "<class 'pandas.core.frame.DataFrame'>\n",
            "RangeIndex: 58592 entries, 0 to 58591\n",
            "Data columns (total 44 columns):\n",
            " #   Column                            Non-Null Count  Dtype  \n",
            "---  ------                            --------------  -----  \n",
            " 0   policy_id                         58592 non-null  object \n",
            " 1   policy_tenure                     58592 non-null  float64\n",
            " 2   age_of_car                        58592 non-null  float64\n",
            " 3   age_of_policyholder               58592 non-null  float64\n",
            " 4   area_cluster                      58592 non-null  object \n",
            " 5   population_density                58592 non-null  int64  \n",
            " 6   make                              58592 non-null  int64  \n",
            " 7   segment                           58592 non-null  object \n",
            " 8   model                             58592 non-null  object \n",
            " 9   fuel_type                         58592 non-null  object \n",
            " 10  max_torque                        58592 non-null  object \n",
            " 11  max_power                         58592 non-null  object \n",
            " 12  engine_type                       58592 non-null  object \n",
            " 13  airbags                           58592 non-null  int64  \n",
            " 14  is_esc                            58592 non-null  object \n",
            " 15  is_adjustable_steering            58592 non-null  object \n",
            " 16  is_tpms                           58592 non-null  object \n",
            " 17  is_parking_sensors                58592 non-null  object \n",
            " 18  is_parking_camera                 58592 non-null  object \n",
            " 19  rear_brakes_type                  58592 non-null  object \n",
            " 20  displacement                      58592 non-null  int64  \n",
            " 21  cylinder                          58592 non-null  int64  \n",
            " 22  transmission_type                 58592 non-null  object \n",
            " 23  gear_box                          58592 non-null  int64  \n",
            " 24  steering_type                     58592 non-null  object \n",
            " 25  turning_radius                    58592 non-null  float64\n",
            " 26  length                            58592 non-null  int64  \n",
            " 27  width                             58592 non-null  int64  \n",
            " 28  height                            58592 non-null  int64  \n",
            " 29  gross_weight                      58592 non-null  int64  \n",
            " 30  is_front_fog_lights               58592 non-null  object \n",
            " 31  is_rear_window_wiper              58592 non-null  object \n",
            " 32  is_rear_window_washer             58592 non-null  object \n",
            " 33  is_rear_window_defogger           58592 non-null  object \n",
            " 34  is_brake_assist                   58592 non-null  object \n",
            " 35  is_power_door_locks               58592 non-null  object \n",
            " 36  is_central_locking                58592 non-null  object \n",
            " 37  is_power_steering                 58592 non-null  object \n",
            " 38  is_driver_seat_height_adjustable  58592 non-null  object \n",
            " 39  is_day_night_rear_view_mirror     58592 non-null  object \n",
            " 40  is_ecw                            58592 non-null  object \n",
            " 41  is_speed_alert                    58592 non-null  object \n",
            " 42  ncap_rating                       58592 non-null  int64  \n",
            " 43  is_claim                          58592 non-null  int64  \n",
            "dtypes: float64(4), int64(12), object(28)\n",
            "memory usage: 19.7+ MB\n"
          ]
        }
      ]
    },
    {
      "cell_type": "code",
      "source": [
        "# set the plot size\n",
        "# plt.rcParams['figure.figsize']=(50,50)\n",
        "#numeric column datatype\n",
        "df_category = df.select_dtypes(include=object)\n",
        "# df_numeric.hist()\n",
        "# show plot\n",
        "# plt.show()"
      ],
      "metadata": {
        "id": "C9So0weuUKVJ"
      },
      "execution_count": null,
      "outputs": []
    },
    {
      "cell_type": "code",
      "source": [
        "df_category.info()"
      ],
      "metadata": {
        "colab": {
          "base_uri": "https://localhost:8080/"
        },
        "id": "4ZNBNRZ3UUzS",
        "outputId": "5ec54e62-ad3d-4457-c2c2-f8fa27a86667"
      },
      "execution_count": null,
      "outputs": [
        {
          "output_type": "stream",
          "name": "stdout",
          "text": [
            "<class 'pandas.core.frame.DataFrame'>\n",
            "RangeIndex: 58592 entries, 0 to 58591\n",
            "Data columns (total 28 columns):\n",
            " #   Column                            Non-Null Count  Dtype \n",
            "---  ------                            --------------  ----- \n",
            " 0   policy_id                         58592 non-null  object\n",
            " 1   area_cluster                      58592 non-null  object\n",
            " 2   segment                           58592 non-null  object\n",
            " 3   model                             58592 non-null  object\n",
            " 4   fuel_type                         58592 non-null  object\n",
            " 5   max_torque                        58592 non-null  object\n",
            " 6   max_power                         58592 non-null  object\n",
            " 7   engine_type                       58592 non-null  object\n",
            " 8   is_esc                            58592 non-null  object\n",
            " 9   is_adjustable_steering            58592 non-null  object\n",
            " 10  is_tpms                           58592 non-null  object\n",
            " 11  is_parking_sensors                58592 non-null  object\n",
            " 12  is_parking_camera                 58592 non-null  object\n",
            " 13  rear_brakes_type                  58592 non-null  object\n",
            " 14  transmission_type                 58592 non-null  object\n",
            " 15  steering_type                     58592 non-null  object\n",
            " 16  is_front_fog_lights               58592 non-null  object\n",
            " 17  is_rear_window_wiper              58592 non-null  object\n",
            " 18  is_rear_window_washer             58592 non-null  object\n",
            " 19  is_rear_window_defogger           58592 non-null  object\n",
            " 20  is_brake_assist                   58592 non-null  object\n",
            " 21  is_power_door_locks               58592 non-null  object\n",
            " 22  is_central_locking                58592 non-null  object\n",
            " 23  is_power_steering                 58592 non-null  object\n",
            " 24  is_driver_seat_height_adjustable  58592 non-null  object\n",
            " 25  is_day_night_rear_view_mirror     58592 non-null  object\n",
            " 26  is_ecw                            58592 non-null  object\n",
            " 27  is_speed_alert                    58592 non-null  object\n",
            "dtypes: object(28)\n",
            "memory usage: 12.5+ MB\n"
          ]
        }
      ]
    },
    {
      "cell_type": "code",
      "source": [
        "df_category_test= df.select_dtypes(include=object)"
      ],
      "metadata": {
        "id": "TIAcH04iQprP"
      },
      "execution_count": null,
      "outputs": []
    },
    {
      "cell_type": "code",
      "source": [
        "df_category.head()"
      ],
      "metadata": {
        "colab": {
          "base_uri": "https://localhost:8080/",
          "height": 369
        },
        "id": "gDpRqSTeUcVo",
        "outputId": "56385e8b-5ee6-48dd-e04e-1e4ff7b5f97a"
      },
      "execution_count": null,
      "outputs": [
        {
          "output_type": "execute_result",
          "data": {
            "text/plain": [
              "  policy_id area_cluster segment model fuel_type     max_torque  \\\n",
              "0   ID00001           C1       A    M1       CNG   60Nm@3500rpm   \n",
              "1   ID00002           C2       A    M1       CNG   60Nm@3500rpm   \n",
              "2   ID00003           C3       A    M1       CNG   60Nm@3500rpm   \n",
              "3   ID00004           C4      C1    M2    Petrol  113Nm@4400rpm   \n",
              "4   ID00005           C5       A    M3    Petrol   91Nm@4250rpm   \n",
              "\n",
              "          max_power         engine_type is_esc is_adjustable_steering  ...  \\\n",
              "0  40.36bhp@6000rpm   F8D Petrol Engine     No                     No  ...   \n",
              "1  40.36bhp@6000rpm   F8D Petrol Engine     No                     No  ...   \n",
              "2  40.36bhp@6000rpm   F8D Petrol Engine     No                     No  ...   \n",
              "3  88.50bhp@6000rpm  1.2 L K12N Dualjet    Yes                    Yes  ...   \n",
              "4  67.06bhp@5500rpm             1.0 SCe     No                     No  ...   \n",
              "\n",
              "  is_rear_window_washer is_rear_window_defogger is_brake_assist  \\\n",
              "0                    No                      No              No   \n",
              "1                    No                      No              No   \n",
              "2                    No                      No              No   \n",
              "3                    No                     Yes             Yes   \n",
              "4                    No                      No              No   \n",
              "\n",
              "  is_power_door_locks is_central_locking is_power_steering  \\\n",
              "0                  No                 No               Yes   \n",
              "1                  No                 No               Yes   \n",
              "2                  No                 No               Yes   \n",
              "3                 Yes                Yes               Yes   \n",
              "4                 Yes                Yes               Yes   \n",
              "\n",
              "  is_driver_seat_height_adjustable is_day_night_rear_view_mirror is_ecw  \\\n",
              "0                               No                            No     No   \n",
              "1                               No                            No     No   \n",
              "2                               No                            No     No   \n",
              "3                              Yes                           Yes    Yes   \n",
              "4                               No                           Yes    Yes   \n",
              "\n",
              "  is_speed_alert  \n",
              "0            Yes  \n",
              "1            Yes  \n",
              "2            Yes  \n",
              "3            Yes  \n",
              "4            Yes  \n",
              "\n",
              "[5 rows x 28 columns]"
            ],
            "text/html": [
              "\n",
              "  <div id=\"df-378d0cad-d5d5-41db-99ce-c5c595e153ef\">\n",
              "    <div class=\"colab-df-container\">\n",
              "      <div>\n",
              "<style scoped>\n",
              "    .dataframe tbody tr th:only-of-type {\n",
              "        vertical-align: middle;\n",
              "    }\n",
              "\n",
              "    .dataframe tbody tr th {\n",
              "        vertical-align: top;\n",
              "    }\n",
              "\n",
              "    .dataframe thead th {\n",
              "        text-align: right;\n",
              "    }\n",
              "</style>\n",
              "<table border=\"1\" class=\"dataframe\">\n",
              "  <thead>\n",
              "    <tr style=\"text-align: right;\">\n",
              "      <th></th>\n",
              "      <th>policy_id</th>\n",
              "      <th>area_cluster</th>\n",
              "      <th>segment</th>\n",
              "      <th>model</th>\n",
              "      <th>fuel_type</th>\n",
              "      <th>max_torque</th>\n",
              "      <th>max_power</th>\n",
              "      <th>engine_type</th>\n",
              "      <th>is_esc</th>\n",
              "      <th>is_adjustable_steering</th>\n",
              "      <th>...</th>\n",
              "      <th>is_rear_window_washer</th>\n",
              "      <th>is_rear_window_defogger</th>\n",
              "      <th>is_brake_assist</th>\n",
              "      <th>is_power_door_locks</th>\n",
              "      <th>is_central_locking</th>\n",
              "      <th>is_power_steering</th>\n",
              "      <th>is_driver_seat_height_adjustable</th>\n",
              "      <th>is_day_night_rear_view_mirror</th>\n",
              "      <th>is_ecw</th>\n",
              "      <th>is_speed_alert</th>\n",
              "    </tr>\n",
              "  </thead>\n",
              "  <tbody>\n",
              "    <tr>\n",
              "      <th>0</th>\n",
              "      <td>ID00001</td>\n",
              "      <td>C1</td>\n",
              "      <td>A</td>\n",
              "      <td>M1</td>\n",
              "      <td>CNG</td>\n",
              "      <td>60Nm@3500rpm</td>\n",
              "      <td>40.36bhp@6000rpm</td>\n",
              "      <td>F8D Petrol Engine</td>\n",
              "      <td>No</td>\n",
              "      <td>No</td>\n",
              "      <td>...</td>\n",
              "      <td>No</td>\n",
              "      <td>No</td>\n",
              "      <td>No</td>\n",
              "      <td>No</td>\n",
              "      <td>No</td>\n",
              "      <td>Yes</td>\n",
              "      <td>No</td>\n",
              "      <td>No</td>\n",
              "      <td>No</td>\n",
              "      <td>Yes</td>\n",
              "    </tr>\n",
              "    <tr>\n",
              "      <th>1</th>\n",
              "      <td>ID00002</td>\n",
              "      <td>C2</td>\n",
              "      <td>A</td>\n",
              "      <td>M1</td>\n",
              "      <td>CNG</td>\n",
              "      <td>60Nm@3500rpm</td>\n",
              "      <td>40.36bhp@6000rpm</td>\n",
              "      <td>F8D Petrol Engine</td>\n",
              "      <td>No</td>\n",
              "      <td>No</td>\n",
              "      <td>...</td>\n",
              "      <td>No</td>\n",
              "      <td>No</td>\n",
              "      <td>No</td>\n",
              "      <td>No</td>\n",
              "      <td>No</td>\n",
              "      <td>Yes</td>\n",
              "      <td>No</td>\n",
              "      <td>No</td>\n",
              "      <td>No</td>\n",
              "      <td>Yes</td>\n",
              "    </tr>\n",
              "    <tr>\n",
              "      <th>2</th>\n",
              "      <td>ID00003</td>\n",
              "      <td>C3</td>\n",
              "      <td>A</td>\n",
              "      <td>M1</td>\n",
              "      <td>CNG</td>\n",
              "      <td>60Nm@3500rpm</td>\n",
              "      <td>40.36bhp@6000rpm</td>\n",
              "      <td>F8D Petrol Engine</td>\n",
              "      <td>No</td>\n",
              "      <td>No</td>\n",
              "      <td>...</td>\n",
              "      <td>No</td>\n",
              "      <td>No</td>\n",
              "      <td>No</td>\n",
              "      <td>No</td>\n",
              "      <td>No</td>\n",
              "      <td>Yes</td>\n",
              "      <td>No</td>\n",
              "      <td>No</td>\n",
              "      <td>No</td>\n",
              "      <td>Yes</td>\n",
              "    </tr>\n",
              "    <tr>\n",
              "      <th>3</th>\n",
              "      <td>ID00004</td>\n",
              "      <td>C4</td>\n",
              "      <td>C1</td>\n",
              "      <td>M2</td>\n",
              "      <td>Petrol</td>\n",
              "      <td>113Nm@4400rpm</td>\n",
              "      <td>88.50bhp@6000rpm</td>\n",
              "      <td>1.2 L K12N Dualjet</td>\n",
              "      <td>Yes</td>\n",
              "      <td>Yes</td>\n",
              "      <td>...</td>\n",
              "      <td>No</td>\n",
              "      <td>Yes</td>\n",
              "      <td>Yes</td>\n",
              "      <td>Yes</td>\n",
              "      <td>Yes</td>\n",
              "      <td>Yes</td>\n",
              "      <td>Yes</td>\n",
              "      <td>Yes</td>\n",
              "      <td>Yes</td>\n",
              "      <td>Yes</td>\n",
              "    </tr>\n",
              "    <tr>\n",
              "      <th>4</th>\n",
              "      <td>ID00005</td>\n",
              "      <td>C5</td>\n",
              "      <td>A</td>\n",
              "      <td>M3</td>\n",
              "      <td>Petrol</td>\n",
              "      <td>91Nm@4250rpm</td>\n",
              "      <td>67.06bhp@5500rpm</td>\n",
              "      <td>1.0 SCe</td>\n",
              "      <td>No</td>\n",
              "      <td>No</td>\n",
              "      <td>...</td>\n",
              "      <td>No</td>\n",
              "      <td>No</td>\n",
              "      <td>No</td>\n",
              "      <td>Yes</td>\n",
              "      <td>Yes</td>\n",
              "      <td>Yes</td>\n",
              "      <td>No</td>\n",
              "      <td>Yes</td>\n",
              "      <td>Yes</td>\n",
              "      <td>Yes</td>\n",
              "    </tr>\n",
              "  </tbody>\n",
              "</table>\n",
              "<p>5 rows × 28 columns</p>\n",
              "</div>\n",
              "      <button class=\"colab-df-convert\" onclick=\"convertToInteractive('df-378d0cad-d5d5-41db-99ce-c5c595e153ef')\"\n",
              "              title=\"Convert this dataframe to an interactive table.\"\n",
              "              style=\"display:none;\">\n",
              "        \n",
              "  <svg xmlns=\"http://www.w3.org/2000/svg\" height=\"24px\"viewBox=\"0 0 24 24\"\n",
              "       width=\"24px\">\n",
              "    <path d=\"M0 0h24v24H0V0z\" fill=\"none\"/>\n",
              "    <path d=\"M18.56 5.44l.94 2.06.94-2.06 2.06-.94-2.06-.94-.94-2.06-.94 2.06-2.06.94zm-11 1L8.5 8.5l.94-2.06 2.06-.94-2.06-.94L8.5 2.5l-.94 2.06-2.06.94zm10 10l.94 2.06.94-2.06 2.06-.94-2.06-.94-.94-2.06-.94 2.06-2.06.94z\"/><path d=\"M17.41 7.96l-1.37-1.37c-.4-.4-.92-.59-1.43-.59-.52 0-1.04.2-1.43.59L10.3 9.45l-7.72 7.72c-.78.78-.78 2.05 0 2.83L4 21.41c.39.39.9.59 1.41.59.51 0 1.02-.2 1.41-.59l7.78-7.78 2.81-2.81c.8-.78.8-2.07 0-2.86zM5.41 20L4 18.59l7.72-7.72 1.47 1.35L5.41 20z\"/>\n",
              "  </svg>\n",
              "      </button>\n",
              "      \n",
              "  <style>\n",
              "    .colab-df-container {\n",
              "      display:flex;\n",
              "      flex-wrap:wrap;\n",
              "      gap: 12px;\n",
              "    }\n",
              "\n",
              "    .colab-df-convert {\n",
              "      background-color: #E8F0FE;\n",
              "      border: none;\n",
              "      border-radius: 50%;\n",
              "      cursor: pointer;\n",
              "      display: none;\n",
              "      fill: #1967D2;\n",
              "      height: 32px;\n",
              "      padding: 0 0 0 0;\n",
              "      width: 32px;\n",
              "    }\n",
              "\n",
              "    .colab-df-convert:hover {\n",
              "      background-color: #E2EBFA;\n",
              "      box-shadow: 0px 1px 2px rgba(60, 64, 67, 0.3), 0px 1px 3px 1px rgba(60, 64, 67, 0.15);\n",
              "      fill: #174EA6;\n",
              "    }\n",
              "\n",
              "    [theme=dark] .colab-df-convert {\n",
              "      background-color: #3B4455;\n",
              "      fill: #D2E3FC;\n",
              "    }\n",
              "\n",
              "    [theme=dark] .colab-df-convert:hover {\n",
              "      background-color: #434B5C;\n",
              "      box-shadow: 0px 1px 3px 1px rgba(0, 0, 0, 0.15);\n",
              "      filter: drop-shadow(0px 1px 2px rgba(0, 0, 0, 0.3));\n",
              "      fill: #FFFFFF;\n",
              "    }\n",
              "  </style>\n",
              "\n",
              "      <script>\n",
              "        const buttonEl =\n",
              "          document.querySelector('#df-378d0cad-d5d5-41db-99ce-c5c595e153ef button.colab-df-convert');\n",
              "        buttonEl.style.display =\n",
              "          google.colab.kernel.accessAllowed ? 'block' : 'none';\n",
              "\n",
              "        async function convertToInteractive(key) {\n",
              "          const element = document.querySelector('#df-378d0cad-d5d5-41db-99ce-c5c595e153ef');\n",
              "          const dataTable =\n",
              "            await google.colab.kernel.invokeFunction('convertToInteractive',\n",
              "                                                     [key], {});\n",
              "          if (!dataTable) return;\n",
              "\n",
              "          const docLinkHtml = 'Like what you see? Visit the ' +\n",
              "            '<a target=\"_blank\" href=https://colab.research.google.com/notebooks/data_table.ipynb>data table notebook</a>'\n",
              "            + ' to learn more about interactive tables.';\n",
              "          element.innerHTML = '';\n",
              "          dataTable['output_type'] = 'display_data';\n",
              "          await google.colab.output.renderOutput(dataTable, element);\n",
              "          const docLink = document.createElement('div');\n",
              "          docLink.innerHTML = docLinkHtml;\n",
              "          element.appendChild(docLink);\n",
              "        }\n",
              "      </script>\n",
              "    </div>\n",
              "  </div>\n",
              "  "
            ]
          },
          "metadata": {},
          "execution_count": 252
        }
      ]
    },
    {
      "cell_type": "code",
      "source": [
        "df_category.columns"
      ],
      "metadata": {
        "colab": {
          "base_uri": "https://localhost:8080/"
        },
        "id": "BzkhBR8_Vv4S",
        "outputId": "ffd4cf3d-c75d-4c81-d117-971eb9912db5"
      },
      "execution_count": null,
      "outputs": [
        {
          "output_type": "execute_result",
          "data": {
            "text/plain": [
              "Index(['policy_id', 'area_cluster', 'segment', 'model', 'fuel_type',\n",
              "       'max_torque', 'max_power', 'engine_type', 'is_esc',\n",
              "       'is_adjustable_steering', 'is_tpms', 'is_parking_sensors',\n",
              "       'is_parking_camera', 'rear_brakes_type', 'transmission_type',\n",
              "       'steering_type', 'is_front_fog_lights', 'is_rear_window_wiper',\n",
              "       'is_rear_window_washer', 'is_rear_window_defogger', 'is_brake_assist',\n",
              "       'is_power_door_locks', 'is_central_locking', 'is_power_steering',\n",
              "       'is_driver_seat_height_adjustable', 'is_day_night_rear_view_mirror',\n",
              "       'is_ecw', 'is_speed_alert'],\n",
              "      dtype='object')"
            ]
          },
          "metadata": {},
          "execution_count": 253
        }
      ]
    },
    {
      "cell_type": "code",
      "source": [
        "df_numeric.columns"
      ],
      "metadata": {
        "colab": {
          "base_uri": "https://localhost:8080/"
        },
        "id": "0CEwuNizWJnI",
        "outputId": "1c06ebee-4384-4218-c721-98f7fcd2b327"
      },
      "execution_count": null,
      "outputs": [
        {
          "output_type": "execute_result",
          "data": {
            "text/plain": [
              "Index(['policy_tenure', 'age_of_car', 'age_of_policyholder',\n",
              "       'population_density', 'make', 'airbags', 'displacement', 'cylinder',\n",
              "       'gear_box', 'turning_radius', 'length', 'width', 'height',\n",
              "       'gross_weight', 'ncap_rating', 'is_claim'],\n",
              "      dtype='object')"
            ]
          },
          "metadata": {},
          "execution_count": 254
        }
      ]
    },
    {
      "cell_type": "code",
      "source": [
        "df1 = df.copy(deep = True)"
      ],
      "metadata": {
        "id": "APFRCfGuWR8N"
      },
      "execution_count": null,
      "outputs": []
    },
    {
      "cell_type": "code",
      "source": [
        "df_test1 = df_test.copy(deep = True)"
      ],
      "metadata": {
        "id": "DNkRk7bIQ6TP"
      },
      "execution_count": null,
      "outputs": []
    },
    {
      "cell_type": "code",
      "source": [
        "from sklearn.preprocessing import LabelEncoder"
      ],
      "metadata": {
        "id": "JD9KsHrFKDIG"
      },
      "execution_count": null,
      "outputs": []
    },
    {
      "cell_type": "code",
      "source": [
        "df1[['is_esc', 'is_adjustable_steering', 'is_tpms', 'is_parking_sensors', 'is_parking_camera',\n",
        "               'is_front_fog_lights', 'is_rear_window_wiper', 'is_rear_window_washer', 'is_rear_window_defogger',\n",
        "               'is_brake_assist', 'is_power_door_locks','is_central_locking','is_power_steering',\n",
        "                'is_driver_seat_height_adjustable','is_day_night_rear_view_mirror','is_ecw', 'is_speed_alert']] = df1[['is_esc', 'is_adjustable_steering', 'is_tpms', 'is_parking_sensors', 'is_parking_camera',\n",
        "               'is_front_fog_lights', 'is_rear_window_wiper', 'is_rear_window_washer', 'is_rear_window_defogger',\n",
        "               'is_brake_assist', 'is_power_door_locks','is_central_locking','is_power_steering',\n",
        "                'is_driver_seat_height_adjustable','is_day_night_rear_view_mirror','is_ecw', 'is_speed_alert']].apply(LabelEncoder().fit_transform)"
      ],
      "metadata": {
        "id": "VAAEndh8KDOj"
      },
      "execution_count": null,
      "outputs": []
    },
    {
      "cell_type": "code",
      "source": [
        "df_test1[['is_esc', 'is_adjustable_steering', 'is_tpms', 'is_parking_sensors', 'is_parking_camera',\n",
        "               'is_front_fog_lights', 'is_rear_window_wiper', 'is_rear_window_washer', 'is_rear_window_defogger',\n",
        "               'is_brake_assist', 'is_power_door_locks','is_central_locking','is_power_steering',\n",
        "                'is_driver_seat_height_adjustable','is_day_night_rear_view_mirror','is_ecw', 'is_speed_alert']] = df_test1[['is_esc', 'is_adjustable_steering', 'is_tpms', 'is_parking_sensors', 'is_parking_camera',\n",
        "               'is_front_fog_lights', 'is_rear_window_wiper', 'is_rear_window_washer', 'is_rear_window_defogger',\n",
        "               'is_brake_assist', 'is_power_door_locks','is_central_locking','is_power_steering',\n",
        "                'is_driver_seat_height_adjustable','is_day_night_rear_view_mirror','is_ecw', 'is_speed_alert']].apply(LabelEncoder().fit_transform)"
      ],
      "metadata": {
        "id": "CYgGAkMBKlht"
      },
      "execution_count": null,
      "outputs": []
    },
    {
      "cell_type": "code",
      "source": [
        "# one hot encoding on following columns\n",
        "# ['area_cluster', 'segment', 'model', 'fuel_type', 'rear_brakes_type', 'engine_type']\n",
        "# these are categorical variable with more than two labels where order doesnt matter."
      ],
      "metadata": {
        "id": "k5Je7yhXKtqF"
      },
      "execution_count": null,
      "outputs": []
    },
    {
      "cell_type": "code",
      "source": [
        "one_hot_encoding_col = ['area_cluster', 'segment', 'model', 'fuel_type', 'rear_brakes_type', 'engine_type']"
      ],
      "metadata": {
        "id": "MoZP-kQYKtxM"
      },
      "execution_count": null,
      "outputs": []
    },
    {
      "cell_type": "code",
      "source": [
        "df1 = pd.concat([df1,pd.get_dummies(df1[one_hot_encoding_col])],axis=1)\n",
        "df1.drop(one_hot_encoding_col, axis=1, inplace=True)\n",
        "df1.info()"
      ],
      "metadata": {
        "colab": {
          "base_uri": "https://localhost:8080/"
        },
        "id": "yW1pA9pd4wcK",
        "outputId": "c10e76be-4303-4bc3-e8a0-177fbd7db8b5"
      },
      "execution_count": null,
      "outputs": [
        {
          "output_type": "stream",
          "name": "stdout",
          "text": [
            "<class 'pandas.core.frame.DataFrame'>\n",
            "RangeIndex: 58592 entries, 0 to 58591\n",
            "Data columns (total 93 columns):\n",
            " #   Column                                 Non-Null Count  Dtype  \n",
            "---  ------                                 --------------  -----  \n",
            " 0   policy_id                              58592 non-null  object \n",
            " 1   policy_tenure                          58592 non-null  float64\n",
            " 2   age_of_car                             58592 non-null  float64\n",
            " 3   age_of_policyholder                    58592 non-null  float64\n",
            " 4   population_density                     58592 non-null  int64  \n",
            " 5   make                                   58592 non-null  int64  \n",
            " 6   max_torque                             58592 non-null  object \n",
            " 7   max_power                              58592 non-null  object \n",
            " 8   airbags                                58592 non-null  int64  \n",
            " 9   is_esc                                 58592 non-null  int64  \n",
            " 10  is_adjustable_steering                 58592 non-null  int64  \n",
            " 11  is_tpms                                58592 non-null  int64  \n",
            " 12  is_parking_sensors                     58592 non-null  int64  \n",
            " 13  is_parking_camera                      58592 non-null  int64  \n",
            " 14  displacement                           58592 non-null  int64  \n",
            " 15  cylinder                               58592 non-null  int64  \n",
            " 16  transmission_type                      58592 non-null  object \n",
            " 17  gear_box                               58592 non-null  int64  \n",
            " 18  steering_type                          58592 non-null  object \n",
            " 19  turning_radius                         58592 non-null  float64\n",
            " 20  length                                 58592 non-null  int64  \n",
            " 21  width                                  58592 non-null  int64  \n",
            " 22  height                                 58592 non-null  int64  \n",
            " 23  gross_weight                           58592 non-null  int64  \n",
            " 24  is_front_fog_lights                    58592 non-null  int64  \n",
            " 25  is_rear_window_wiper                   58592 non-null  int64  \n",
            " 26  is_rear_window_washer                  58592 non-null  int64  \n",
            " 27  is_rear_window_defogger                58592 non-null  int64  \n",
            " 28  is_brake_assist                        58592 non-null  int64  \n",
            " 29  is_power_door_locks                    58592 non-null  int64  \n",
            " 30  is_central_locking                     58592 non-null  int64  \n",
            " 31  is_power_steering                      58592 non-null  int64  \n",
            " 32  is_driver_seat_height_adjustable       58592 non-null  int64  \n",
            " 33  is_day_night_rear_view_mirror          58592 non-null  int64  \n",
            " 34  is_ecw                                 58592 non-null  int64  \n",
            " 35  is_speed_alert                         58592 non-null  int64  \n",
            " 36  ncap_rating                            58592 non-null  int64  \n",
            " 37  is_claim                               58592 non-null  int64  \n",
            " 38  area_cluster_C1                        58592 non-null  uint8  \n",
            " 39  area_cluster_C10                       58592 non-null  uint8  \n",
            " 40  area_cluster_C11                       58592 non-null  uint8  \n",
            " 41  area_cluster_C12                       58592 non-null  uint8  \n",
            " 42  area_cluster_C13                       58592 non-null  uint8  \n",
            " 43  area_cluster_C14                       58592 non-null  uint8  \n",
            " 44  area_cluster_C15                       58592 non-null  uint8  \n",
            " 45  area_cluster_C16                       58592 non-null  uint8  \n",
            " 46  area_cluster_C17                       58592 non-null  uint8  \n",
            " 47  area_cluster_C18                       58592 non-null  uint8  \n",
            " 48  area_cluster_C19                       58592 non-null  uint8  \n",
            " 49  area_cluster_C2                        58592 non-null  uint8  \n",
            " 50  area_cluster_C20                       58592 non-null  uint8  \n",
            " 51  area_cluster_C21                       58592 non-null  uint8  \n",
            " 52  area_cluster_C22                       58592 non-null  uint8  \n",
            " 53  area_cluster_C3                        58592 non-null  uint8  \n",
            " 54  area_cluster_C4                        58592 non-null  uint8  \n",
            " 55  area_cluster_C5                        58592 non-null  uint8  \n",
            " 56  area_cluster_C6                        58592 non-null  uint8  \n",
            " 57  area_cluster_C7                        58592 non-null  uint8  \n",
            " 58  area_cluster_C8                        58592 non-null  uint8  \n",
            " 59  area_cluster_C9                        58592 non-null  uint8  \n",
            " 60  segment_A                              58592 non-null  uint8  \n",
            " 61  segment_B1                             58592 non-null  uint8  \n",
            " 62  segment_B2                             58592 non-null  uint8  \n",
            " 63  segment_C1                             58592 non-null  uint8  \n",
            " 64  segment_C2                             58592 non-null  uint8  \n",
            " 65  segment_Utility                        58592 non-null  uint8  \n",
            " 66  model_M1                               58592 non-null  uint8  \n",
            " 67  model_M10                              58592 non-null  uint8  \n",
            " 68  model_M11                              58592 non-null  uint8  \n",
            " 69  model_M2                               58592 non-null  uint8  \n",
            " 70  model_M3                               58592 non-null  uint8  \n",
            " 71  model_M4                               58592 non-null  uint8  \n",
            " 72  model_M5                               58592 non-null  uint8  \n",
            " 73  model_M6                               58592 non-null  uint8  \n",
            " 74  model_M7                               58592 non-null  uint8  \n",
            " 75  model_M8                               58592 non-null  uint8  \n",
            " 76  model_M9                               58592 non-null  uint8  \n",
            " 77  fuel_type_CNG                          58592 non-null  uint8  \n",
            " 78  fuel_type_Diesel                       58592 non-null  uint8  \n",
            " 79  fuel_type_Petrol                       58592 non-null  uint8  \n",
            " 80  rear_brakes_type_Disc                  58592 non-null  uint8  \n",
            " 81  rear_brakes_type_Drum                  58592 non-null  uint8  \n",
            " 82  engine_type_1.0 SCe                    58592 non-null  uint8  \n",
            " 83  engine_type_1.2 L K Series Engine      58592 non-null  uint8  \n",
            " 84  engine_type_1.2 L K12N Dualjet         58592 non-null  uint8  \n",
            " 85  engine_type_1.5 L U2 CRDi              58592 non-null  uint8  \n",
            " 86  engine_type_1.5 Turbocharged Revotorq  58592 non-null  uint8  \n",
            " 87  engine_type_1.5 Turbocharged Revotron  58592 non-null  uint8  \n",
            " 88  engine_type_F8D Petrol Engine          58592 non-null  uint8  \n",
            " 89  engine_type_G12B                       58592 non-null  uint8  \n",
            " 90  engine_type_K Series Dual jet          58592 non-null  uint8  \n",
            " 91  engine_type_K10C                       58592 non-null  uint8  \n",
            " 92  engine_type_i-DTEC                     58592 non-null  uint8  \n",
            "dtypes: float64(4), int64(29), object(5), uint8(55)\n",
            "memory usage: 20.1+ MB\n"
          ]
        }
      ]
    },
    {
      "cell_type": "code",
      "source": [
        "df_test1 = pd.concat([df_test1,pd.get_dummies(df_test1[one_hot_encoding_col])],axis=1)\n",
        "df_test1.drop(one_hot_encoding_col, axis=1, inplace=True)\n",
        "df_test1.info()"
      ],
      "metadata": {
        "colab": {
          "base_uri": "https://localhost:8080/"
        },
        "id": "iUwSC1dj4wm8",
        "outputId": "6ce2cbd3-837c-4f79-97dc-8888f652d31b"
      },
      "execution_count": null,
      "outputs": [
        {
          "output_type": "stream",
          "name": "stdout",
          "text": [
            "<class 'pandas.core.frame.DataFrame'>\n",
            "RangeIndex: 39063 entries, 0 to 39062\n",
            "Data columns (total 92 columns):\n",
            " #   Column                                 Non-Null Count  Dtype  \n",
            "---  ------                                 --------------  -----  \n",
            " 0   policy_id                              39063 non-null  object \n",
            " 1   policy_tenure                          39063 non-null  float64\n",
            " 2   age_of_car                             39063 non-null  float64\n",
            " 3   age_of_policyholder                    39063 non-null  float64\n",
            " 4   population_density                     39063 non-null  int64  \n",
            " 5   make                                   39063 non-null  int64  \n",
            " 6   max_torque                             39063 non-null  object \n",
            " 7   max_power                              39063 non-null  object \n",
            " 8   airbags                                39063 non-null  int64  \n",
            " 9   is_esc                                 39063 non-null  int64  \n",
            " 10  is_adjustable_steering                 39063 non-null  int64  \n",
            " 11  is_tpms                                39063 non-null  int64  \n",
            " 12  is_parking_sensors                     39063 non-null  int64  \n",
            " 13  is_parking_camera                      39063 non-null  int64  \n",
            " 14  displacement                           39063 non-null  int64  \n",
            " 15  cylinder                               39063 non-null  int64  \n",
            " 16  transmission_type                      39063 non-null  object \n",
            " 17  gear_box                               39063 non-null  int64  \n",
            " 18  steering_type                          39063 non-null  object \n",
            " 19  turning_radius                         39063 non-null  float64\n",
            " 20  length                                 39063 non-null  int64  \n",
            " 21  width                                  39063 non-null  int64  \n",
            " 22  height                                 39063 non-null  int64  \n",
            " 23  gross_weight                           39063 non-null  int64  \n",
            " 24  is_front_fog_lights                    39063 non-null  int64  \n",
            " 25  is_rear_window_wiper                   39063 non-null  int64  \n",
            " 26  is_rear_window_washer                  39063 non-null  int64  \n",
            " 27  is_rear_window_defogger                39063 non-null  int64  \n",
            " 28  is_brake_assist                        39063 non-null  int64  \n",
            " 29  is_power_door_locks                    39063 non-null  int64  \n",
            " 30  is_central_locking                     39063 non-null  int64  \n",
            " 31  is_power_steering                      39063 non-null  int64  \n",
            " 32  is_driver_seat_height_adjustable       39063 non-null  int64  \n",
            " 33  is_day_night_rear_view_mirror          39063 non-null  int64  \n",
            " 34  is_ecw                                 39063 non-null  int64  \n",
            " 35  is_speed_alert                         39063 non-null  int64  \n",
            " 36  ncap_rating                            39063 non-null  int64  \n",
            " 37  area_cluster_C1                        39063 non-null  uint8  \n",
            " 38  area_cluster_C10                       39063 non-null  uint8  \n",
            " 39  area_cluster_C11                       39063 non-null  uint8  \n",
            " 40  area_cluster_C12                       39063 non-null  uint8  \n",
            " 41  area_cluster_C13                       39063 non-null  uint8  \n",
            " 42  area_cluster_C14                       39063 non-null  uint8  \n",
            " 43  area_cluster_C15                       39063 non-null  uint8  \n",
            " 44  area_cluster_C16                       39063 non-null  uint8  \n",
            " 45  area_cluster_C17                       39063 non-null  uint8  \n",
            " 46  area_cluster_C18                       39063 non-null  uint8  \n",
            " 47  area_cluster_C19                       39063 non-null  uint8  \n",
            " 48  area_cluster_C2                        39063 non-null  uint8  \n",
            " 49  area_cluster_C20                       39063 non-null  uint8  \n",
            " 50  area_cluster_C21                       39063 non-null  uint8  \n",
            " 51  area_cluster_C22                       39063 non-null  uint8  \n",
            " 52  area_cluster_C3                        39063 non-null  uint8  \n",
            " 53  area_cluster_C4                        39063 non-null  uint8  \n",
            " 54  area_cluster_C5                        39063 non-null  uint8  \n",
            " 55  area_cluster_C6                        39063 non-null  uint8  \n",
            " 56  area_cluster_C7                        39063 non-null  uint8  \n",
            " 57  area_cluster_C8                        39063 non-null  uint8  \n",
            " 58  area_cluster_C9                        39063 non-null  uint8  \n",
            " 59  segment_A                              39063 non-null  uint8  \n",
            " 60  segment_B1                             39063 non-null  uint8  \n",
            " 61  segment_B2                             39063 non-null  uint8  \n",
            " 62  segment_C1                             39063 non-null  uint8  \n",
            " 63  segment_C2                             39063 non-null  uint8  \n",
            " 64  segment_Utility                        39063 non-null  uint8  \n",
            " 65  model_M1                               39063 non-null  uint8  \n",
            " 66  model_M10                              39063 non-null  uint8  \n",
            " 67  model_M11                              39063 non-null  uint8  \n",
            " 68  model_M2                               39063 non-null  uint8  \n",
            " 69  model_M3                               39063 non-null  uint8  \n",
            " 70  model_M4                               39063 non-null  uint8  \n",
            " 71  model_M5                               39063 non-null  uint8  \n",
            " 72  model_M6                               39063 non-null  uint8  \n",
            " 73  model_M7                               39063 non-null  uint8  \n",
            " 74  model_M8                               39063 non-null  uint8  \n",
            " 75  model_M9                               39063 non-null  uint8  \n",
            " 76  fuel_type_CNG                          39063 non-null  uint8  \n",
            " 77  fuel_type_Diesel                       39063 non-null  uint8  \n",
            " 78  fuel_type_Petrol                       39063 non-null  uint8  \n",
            " 79  rear_brakes_type_Disc                  39063 non-null  uint8  \n",
            " 80  rear_brakes_type_Drum                  39063 non-null  uint8  \n",
            " 81  engine_type_1.0 SCe                    39063 non-null  uint8  \n",
            " 82  engine_type_1.2 L K Series Engine      39063 non-null  uint8  \n",
            " 83  engine_type_1.2 L K12N Dualjet         39063 non-null  uint8  \n",
            " 84  engine_type_1.5 L U2 CRDi              39063 non-null  uint8  \n",
            " 85  engine_type_1.5 Turbocharged Revotorq  39063 non-null  uint8  \n",
            " 86  engine_type_1.5 Turbocharged Revotron  39063 non-null  uint8  \n",
            " 87  engine_type_F8D Petrol Engine          39063 non-null  uint8  \n",
            " 88  engine_type_G12B                       39063 non-null  uint8  \n",
            " 89  engine_type_K Series Dual jet          39063 non-null  uint8  \n",
            " 90  engine_type_K10C                       39063 non-null  uint8  \n",
            " 91  engine_type_i-DTEC                     39063 non-null  uint8  \n",
            "dtypes: float64(4), int64(28), object(5), uint8(55)\n",
            "memory usage: 13.1+ MB\n"
          ]
        }
      ]
    },
    {
      "cell_type": "code",
      "source": [
        "# ordinal_col = ['max_torque', 'max_power', 'transmission_type', 'steering_type']"
      ],
      "metadata": {
        "id": "mGn_zryINjjl"
      },
      "execution_count": null,
      "outputs": []
    },
    {
      "cell_type": "code",
      "source": [
        "df1['transmission_type'] = df1['transmission_type'].replace({'Manual' : 1, 'Automatic' : 2})\n",
        "df1['steering_type'] = df1['steering_type'].replace({'Manual' : 1, 'Power' : 2, 'Electric': 3})"
      ],
      "metadata": {
        "id": "QB7AVkpbNqWt"
      },
      "execution_count": null,
      "outputs": []
    },
    {
      "cell_type": "code",
      "source": [
        "df_test1['transmission_type'] = df_test1['transmission_type'].replace({'Manual' : 1, 'Automatic' : 2})\n",
        "df_test1['steering_type'] = df_test1['steering_type'].replace({'Manual' : 1, 'Power' : 2, 'Electric': 3})"
      ],
      "metadata": {
        "id": "EZBOg9W2NqZ4"
      },
      "execution_count": null,
      "outputs": []
    },
    {
      "cell_type": "code",
      "source": [
        "df1.max_torque.value_counts()"
      ],
      "metadata": {
        "colab": {
          "base_uri": "https://localhost:8080/"
        },
        "id": "MrGcVFgWNqfx",
        "outputId": "08c9f1e8-2055-4ed0-b3f4-931bddac2217"
      },
      "execution_count": null,
      "outputs": [
        {
          "output_type": "execute_result",
          "data": {
            "text/plain": [
              "113Nm@4400rpm     17796\n",
              "60Nm@3500rpm      14948\n",
              "250Nm@2750rpm     14018\n",
              "82.1Nm@3400rpm     4173\n",
              "91Nm@4250rpm       2373\n",
              "200Nm@1750rpm      2114\n",
              "200Nm@3000rpm      1598\n",
              "85Nm@3000rpm       1209\n",
              "170Nm@4000rpm       363\n",
              "Name: max_torque, dtype: int64"
            ]
          },
          "metadata": {},
          "execution_count": 268
        }
      ]
    },
    {
      "cell_type": "code",
      "source": [
        "df1.max_power.value_counts()"
      ],
      "metadata": {
        "colab": {
          "base_uri": "https://localhost:8080/"
        },
        "id": "LpnZJcQAO0CG",
        "outputId": "06840cee-f559-4d14-da91-0449012eff18"
      },
      "execution_count": null,
      "outputs": [
        {
          "output_type": "execute_result",
          "data": {
            "text/plain": [
              "88.50bhp@6000rpm     17796\n",
              "40.36bhp@6000rpm     14948\n",
              "113.45bhp@4000rpm    14018\n",
              "55.92bhp@5300rpm      4173\n",
              "67.06bhp@5500rpm      2373\n",
              "97.89bhp@3600rpm      2114\n",
              "88.77bhp@4000rpm      1598\n",
              "61.68bhp@6000rpm      1209\n",
              "118.36bhp@5500rpm      363\n",
              "Name: max_power, dtype: int64"
            ]
          },
          "metadata": {},
          "execution_count": 269
        }
      ]
    },
    {
      "cell_type": "code",
      "source": [
        "df1[['max_torque_Nm', 'max_torque_rpm']] = df1[\"max_torque\"].apply(lambda x: pd.Series(str(x).split(\"@\")))"
      ],
      "metadata": {
        "id": "02e2og44O-Q9"
      },
      "execution_count": null,
      "outputs": []
    },
    {
      "cell_type": "code",
      "source": [
        "df1.drop([\"max_torque\"], axis=1, inplace= True)"
      ],
      "metadata": {
        "id": "EoJW5sEbPV7u"
      },
      "execution_count": null,
      "outputs": []
    },
    {
      "cell_type": "code",
      "source": [
        "df1['max_torque_rpm'] = df1['max_torque_rpm'].str[:-3].astype(int)\n",
        "df1['max_torque_Nm'] = df1['max_torque_Nm'].str[:-2].astype(float)"
      ],
      "metadata": {
        "id": "8tZTFiq0PWEI"
      },
      "execution_count": null,
      "outputs": []
    },
    {
      "cell_type": "code",
      "source": [
        "df1[['max_power_bhp', 'max_power_rpm']] = df1[\"max_power\"].apply(lambda x: pd.Series(str(x).split(\"@\")))\n",
        "df1.drop([\"max_power\"], axis=1, inplace= True)\n",
        "df1['max_power_rpm'] = df1['max_power_rpm'].str[:-3].astype(int)\n",
        "df1['max_power_bhp'] = df1['max_power_bhp'].str[:-3].astype(float)"
      ],
      "metadata": {
        "id": "2GLwhbmlRcds"
      },
      "execution_count": null,
      "outputs": []
    },
    {
      "cell_type": "code",
      "source": [
        "\n",
        "df_test1[['max_torque_Nm', 'max_torque_rpm']] = df_test1[\"max_torque\"].apply(lambda x: pd.Series(str(x).split(\"@\")))\n",
        "df_test1.drop([\"max_torque\"], axis=1, inplace= True)\n",
        "df_test1['max_torque_rpm'] = df_test1['max_torque_rpm'].str[:-3].astype(int)\n",
        "df_test1['max_torque_Nm'] = df_test1['max_torque_Nm'].str[:-2].astype(float)\n",
        "\n",
        "df_test1[['max_power_bhp', 'max_power_rpm']] = df_test1[\"max_power\"].apply(lambda x: pd.Series(str(x).split(\"@\")))\n",
        "df_test1.drop([\"max_power\"], axis=1, inplace= True)\n",
        "df_test1['max_power_rpm'] = df_test1['max_power_rpm'].str[:-3].astype(int)\n",
        "df_test1['max_power_bhp'] = df_test1['max_power_bhp'].str[:-3].astype(float)"
      ],
      "metadata": {
        "id": "bzn--_2wRrY3"
      },
      "execution_count": null,
      "outputs": []
    },
    {
      "cell_type": "code",
      "source": [
        "df_test1.columns"
      ],
      "metadata": {
        "colab": {
          "base_uri": "https://localhost:8080/"
        },
        "id": "3pw7_zfy24SE",
        "outputId": "fe9b9c75-c378-492f-e7da-dafc6527027d"
      },
      "execution_count": null,
      "outputs": [
        {
          "output_type": "execute_result",
          "data": {
            "text/plain": [
              "Index(['policy_id', 'policy_tenure', 'age_of_car', 'age_of_policyholder',\n",
              "       'population_density', 'make', 'airbags', 'is_esc',\n",
              "       'is_adjustable_steering', 'is_tpms', 'is_parking_sensors',\n",
              "       'is_parking_camera', 'displacement', 'cylinder', 'transmission_type',\n",
              "       'gear_box', 'steering_type', 'turning_radius', 'length', 'width',\n",
              "       'height', 'gross_weight', 'is_front_fog_lights', 'is_rear_window_wiper',\n",
              "       'is_rear_window_washer', 'is_rear_window_defogger', 'is_brake_assist',\n",
              "       'is_power_door_locks', 'is_central_locking', 'is_power_steering',\n",
              "       'is_driver_seat_height_adjustable', 'is_day_night_rear_view_mirror',\n",
              "       'is_ecw', 'is_speed_alert', 'ncap_rating', 'area_cluster_C1',\n",
              "       'area_cluster_C10', 'area_cluster_C11', 'area_cluster_C12',\n",
              "       'area_cluster_C13', 'area_cluster_C14', 'area_cluster_C15',\n",
              "       'area_cluster_C16', 'area_cluster_C17', 'area_cluster_C18',\n",
              "       'area_cluster_C19', 'area_cluster_C2', 'area_cluster_C20',\n",
              "       'area_cluster_C21', 'area_cluster_C22', 'area_cluster_C3',\n",
              "       'area_cluster_C4', 'area_cluster_C5', 'area_cluster_C6',\n",
              "       'area_cluster_C7', 'area_cluster_C8', 'area_cluster_C9', 'segment_A',\n",
              "       'segment_B1', 'segment_B2', 'segment_C1', 'segment_C2',\n",
              "       'segment_Utility', 'model_M1', 'model_M10', 'model_M11', 'model_M2',\n",
              "       'model_M3', 'model_M4', 'model_M5', 'model_M6', 'model_M7', 'model_M8',\n",
              "       'model_M9', 'fuel_type_CNG', 'fuel_type_Diesel', 'fuel_type_Petrol',\n",
              "       'rear_brakes_type_Disc', 'rear_brakes_type_Drum', 'engine_type_1.0 SCe',\n",
              "       'engine_type_1.2 L K Series Engine', 'engine_type_1.2 L K12N Dualjet',\n",
              "       'engine_type_1.5 L U2 CRDi', 'engine_type_1.5 Turbocharged Revotorq',\n",
              "       'engine_type_1.5 Turbocharged Revotron',\n",
              "       'engine_type_F8D Petrol Engine', 'engine_type_G12B',\n",
              "       'engine_type_K Series Dual jet', 'engine_type_K10C',\n",
              "       'engine_type_i-DTEC', 'max_torque_Nm', 'max_torque_rpm',\n",
              "       'max_power_bhp', 'max_power_rpm'],\n",
              "      dtype='object')"
            ]
          },
          "metadata": {},
          "execution_count": 275
        }
      ]
    },
    {
      "cell_type": "code",
      "source": [
        "to_be_scaled= df1[['displacement','turning_radius','gross_weight','length','width','height','policy_tenure', 'age_of_car', 'age_of_policyholder',\n",
        "       'population_density']]"
      ],
      "metadata": {
        "id": "FK9FTRK3RPGx"
      },
      "execution_count": null,
      "outputs": []
    },
    {
      "cell_type": "code",
      "source": [
        "from sklearn.preprocessing import StandardScaler\n",
        "scaler = StandardScaler()\n",
        "scaled_data = scaler.fit_transform(to_be_scaled)\n",
        "df1_scaled= pd.DataFrame(scaled_data, columns= to_be_scaled.columns)"
      ],
      "metadata": {
        "id": "IQPtav9eWu45"
      },
      "execution_count": null,
      "outputs": []
    },
    {
      "cell_type": "code",
      "source": [
        "df1.drop(to_be_scaled, axis=1, inplace=True)"
      ],
      "metadata": {
        "id": "ygJr8yI281D1"
      },
      "execution_count": null,
      "outputs": []
    },
    {
      "cell_type": "code",
      "source": [
        "df1 = pd.concat([df1_scaled,df1],axis=1)"
      ],
      "metadata": {
        "id": "YxESPaxI9CFI"
      },
      "execution_count": null,
      "outputs": []
    },
    {
      "cell_type": "code",
      "source": [
        "to_be_scaled1 = df_test1[['displacement','turning_radius','gross_weight','length','width','height','policy_tenure', 'age_of_car', 'age_of_policyholder',\n",
        "       'population_density']]\n",
        "scaler = StandardScaler()\n",
        "scaled_data_test = scaler.fit_transform(to_be_scaled1)\n",
        "df_test1_scaled= pd.DataFrame(scaled_data_test, columns= to_be_scaled1.columns)"
      ],
      "metadata": {
        "id": "KxMdsBdh5VsV"
      },
      "execution_count": null,
      "outputs": []
    },
    {
      "cell_type": "code",
      "source": [
        "df_test1.drop(to_be_scaled1, axis=1, inplace=True)\n",
        "\n",
        "\n"
      ],
      "metadata": {
        "id": "2naFKRhn6VS9"
      },
      "execution_count": null,
      "outputs": []
    },
    {
      "cell_type": "code",
      "source": [
        "df_test1 = pd.concat([df_test1_scaled,df_test1],axis=1)"
      ],
      "metadata": {
        "id": "gau4RRIp9YrS"
      },
      "execution_count": null,
      "outputs": []
    },
    {
      "cell_type": "code",
      "source": [
        "df_test1.info()"
      ],
      "metadata": {
        "colab": {
          "base_uri": "https://localhost:8080/"
        },
        "id": "e1ByWVPX9mq8",
        "outputId": "c4966d57-3dcc-47fc-86f9-fc216fbaacdf"
      },
      "execution_count": null,
      "outputs": [
        {
          "output_type": "stream",
          "name": "stdout",
          "text": [
            "<class 'pandas.core.frame.DataFrame'>\n",
            "RangeIndex: 39063 entries, 0 to 39062\n",
            "Data columns (total 94 columns):\n",
            " #   Column                                 Non-Null Count  Dtype  \n",
            "---  ------                                 --------------  -----  \n",
            " 0   displacement                           39063 non-null  float64\n",
            " 1   turning_radius                         39063 non-null  float64\n",
            " 2   gross_weight                           39063 non-null  float64\n",
            " 3   length                                 39063 non-null  float64\n",
            " 4   width                                  39063 non-null  float64\n",
            " 5   height                                 39063 non-null  float64\n",
            " 6   policy_tenure                          39063 non-null  float64\n",
            " 7   age_of_car                             39063 non-null  float64\n",
            " 8   age_of_policyholder                    39063 non-null  float64\n",
            " 9   population_density                     39063 non-null  float64\n",
            " 10  policy_id                              39063 non-null  object \n",
            " 11  make                                   39063 non-null  int64  \n",
            " 12  airbags                                39063 non-null  int64  \n",
            " 13  is_esc                                 39063 non-null  int64  \n",
            " 14  is_adjustable_steering                 39063 non-null  int64  \n",
            " 15  is_tpms                                39063 non-null  int64  \n",
            " 16  is_parking_sensors                     39063 non-null  int64  \n",
            " 17  is_parking_camera                      39063 non-null  int64  \n",
            " 18  cylinder                               39063 non-null  int64  \n",
            " 19  transmission_type                      39063 non-null  int64  \n",
            " 20  gear_box                               39063 non-null  int64  \n",
            " 21  steering_type                          39063 non-null  int64  \n",
            " 22  is_front_fog_lights                    39063 non-null  int64  \n",
            " 23  is_rear_window_wiper                   39063 non-null  int64  \n",
            " 24  is_rear_window_washer                  39063 non-null  int64  \n",
            " 25  is_rear_window_defogger                39063 non-null  int64  \n",
            " 26  is_brake_assist                        39063 non-null  int64  \n",
            " 27  is_power_door_locks                    39063 non-null  int64  \n",
            " 28  is_central_locking                     39063 non-null  int64  \n",
            " 29  is_power_steering                      39063 non-null  int64  \n",
            " 30  is_driver_seat_height_adjustable       39063 non-null  int64  \n",
            " 31  is_day_night_rear_view_mirror          39063 non-null  int64  \n",
            " 32  is_ecw                                 39063 non-null  int64  \n",
            " 33  is_speed_alert                         39063 non-null  int64  \n",
            " 34  ncap_rating                            39063 non-null  int64  \n",
            " 35  area_cluster_C1                        39063 non-null  uint8  \n",
            " 36  area_cluster_C10                       39063 non-null  uint8  \n",
            " 37  area_cluster_C11                       39063 non-null  uint8  \n",
            " 38  area_cluster_C12                       39063 non-null  uint8  \n",
            " 39  area_cluster_C13                       39063 non-null  uint8  \n",
            " 40  area_cluster_C14                       39063 non-null  uint8  \n",
            " 41  area_cluster_C15                       39063 non-null  uint8  \n",
            " 42  area_cluster_C16                       39063 non-null  uint8  \n",
            " 43  area_cluster_C17                       39063 non-null  uint8  \n",
            " 44  area_cluster_C18                       39063 non-null  uint8  \n",
            " 45  area_cluster_C19                       39063 non-null  uint8  \n",
            " 46  area_cluster_C2                        39063 non-null  uint8  \n",
            " 47  area_cluster_C20                       39063 non-null  uint8  \n",
            " 48  area_cluster_C21                       39063 non-null  uint8  \n",
            " 49  area_cluster_C22                       39063 non-null  uint8  \n",
            " 50  area_cluster_C3                        39063 non-null  uint8  \n",
            " 51  area_cluster_C4                        39063 non-null  uint8  \n",
            " 52  area_cluster_C5                        39063 non-null  uint8  \n",
            " 53  area_cluster_C6                        39063 non-null  uint8  \n",
            " 54  area_cluster_C7                        39063 non-null  uint8  \n",
            " 55  area_cluster_C8                        39063 non-null  uint8  \n",
            " 56  area_cluster_C9                        39063 non-null  uint8  \n",
            " 57  segment_A                              39063 non-null  uint8  \n",
            " 58  segment_B1                             39063 non-null  uint8  \n",
            " 59  segment_B2                             39063 non-null  uint8  \n",
            " 60  segment_C1                             39063 non-null  uint8  \n",
            " 61  segment_C2                             39063 non-null  uint8  \n",
            " 62  segment_Utility                        39063 non-null  uint8  \n",
            " 63  model_M1                               39063 non-null  uint8  \n",
            " 64  model_M10                              39063 non-null  uint8  \n",
            " 65  model_M11                              39063 non-null  uint8  \n",
            " 66  model_M2                               39063 non-null  uint8  \n",
            " 67  model_M3                               39063 non-null  uint8  \n",
            " 68  model_M4                               39063 non-null  uint8  \n",
            " 69  model_M5                               39063 non-null  uint8  \n",
            " 70  model_M6                               39063 non-null  uint8  \n",
            " 71  model_M7                               39063 non-null  uint8  \n",
            " 72  model_M8                               39063 non-null  uint8  \n",
            " 73  model_M9                               39063 non-null  uint8  \n",
            " 74  fuel_type_CNG                          39063 non-null  uint8  \n",
            " 75  fuel_type_Diesel                       39063 non-null  uint8  \n",
            " 76  fuel_type_Petrol                       39063 non-null  uint8  \n",
            " 77  rear_brakes_type_Disc                  39063 non-null  uint8  \n",
            " 78  rear_brakes_type_Drum                  39063 non-null  uint8  \n",
            " 79  engine_type_1.0 SCe                    39063 non-null  uint8  \n",
            " 80  engine_type_1.2 L K Series Engine      39063 non-null  uint8  \n",
            " 81  engine_type_1.2 L K12N Dualjet         39063 non-null  uint8  \n",
            " 82  engine_type_1.5 L U2 CRDi              39063 non-null  uint8  \n",
            " 83  engine_type_1.5 Turbocharged Revotorq  39063 non-null  uint8  \n",
            " 84  engine_type_1.5 Turbocharged Revotron  39063 non-null  uint8  \n",
            " 85  engine_type_F8D Petrol Engine          39063 non-null  uint8  \n",
            " 86  engine_type_G12B                       39063 non-null  uint8  \n",
            " 87  engine_type_K Series Dual jet          39063 non-null  uint8  \n",
            " 88  engine_type_K10C                       39063 non-null  uint8  \n",
            " 89  engine_type_i-DTEC                     39063 non-null  uint8  \n",
            " 90  max_torque_Nm                          39063 non-null  float64\n",
            " 91  max_torque_rpm                         39063 non-null  int64  \n",
            " 92  max_power_bhp                          39063 non-null  float64\n",
            " 93  max_power_rpm                          39063 non-null  int64  \n",
            "dtypes: float64(12), int64(26), object(1), uint8(55)\n",
            "memory usage: 13.7+ MB\n"
          ]
        }
      ]
    },
    {
      "cell_type": "code",
      "source": [
        "df2 = df1.copy(deep = True)\n",
        "df_test2 = df_test1.copy(deep = True)"
      ],
      "metadata": {
        "id": "C3DrnDosMcQx"
      },
      "execution_count": null,
      "outputs": []
    },
    {
      "cell_type": "code",
      "source": [
        "df2.info()"
      ],
      "metadata": {
        "colab": {
          "base_uri": "https://localhost:8080/"
        },
        "id": "Kodqe4uANwvP",
        "outputId": "b2d3ee51-0f59-4a45-8f9b-3f144f1fbb3b"
      },
      "execution_count": null,
      "outputs": [
        {
          "output_type": "stream",
          "name": "stdout",
          "text": [
            "<class 'pandas.core.frame.DataFrame'>\n",
            "RangeIndex: 58592 entries, 0 to 58591\n",
            "Data columns (total 95 columns):\n",
            " #   Column                                 Non-Null Count  Dtype  \n",
            "---  ------                                 --------------  -----  \n",
            " 0   displacement                           58592 non-null  float64\n",
            " 1   turning_radius                         58592 non-null  float64\n",
            " 2   gross_weight                           58592 non-null  float64\n",
            " 3   length                                 58592 non-null  float64\n",
            " 4   width                                  58592 non-null  float64\n",
            " 5   height                                 58592 non-null  float64\n",
            " 6   policy_tenure                          58592 non-null  float64\n",
            " 7   age_of_car                             58592 non-null  float64\n",
            " 8   age_of_policyholder                    58592 non-null  float64\n",
            " 9   population_density                     58592 non-null  float64\n",
            " 10  policy_id                              58592 non-null  object \n",
            " 11  make                                   58592 non-null  int64  \n",
            " 12  airbags                                58592 non-null  int64  \n",
            " 13  is_esc                                 58592 non-null  int64  \n",
            " 14  is_adjustable_steering                 58592 non-null  int64  \n",
            " 15  is_tpms                                58592 non-null  int64  \n",
            " 16  is_parking_sensors                     58592 non-null  int64  \n",
            " 17  is_parking_camera                      58592 non-null  int64  \n",
            " 18  cylinder                               58592 non-null  int64  \n",
            " 19  transmission_type                      58592 non-null  int64  \n",
            " 20  gear_box                               58592 non-null  int64  \n",
            " 21  steering_type                          58592 non-null  int64  \n",
            " 22  is_front_fog_lights                    58592 non-null  int64  \n",
            " 23  is_rear_window_wiper                   58592 non-null  int64  \n",
            " 24  is_rear_window_washer                  58592 non-null  int64  \n",
            " 25  is_rear_window_defogger                58592 non-null  int64  \n",
            " 26  is_brake_assist                        58592 non-null  int64  \n",
            " 27  is_power_door_locks                    58592 non-null  int64  \n",
            " 28  is_central_locking                     58592 non-null  int64  \n",
            " 29  is_power_steering                      58592 non-null  int64  \n",
            " 30  is_driver_seat_height_adjustable       58592 non-null  int64  \n",
            " 31  is_day_night_rear_view_mirror          58592 non-null  int64  \n",
            " 32  is_ecw                                 58592 non-null  int64  \n",
            " 33  is_speed_alert                         58592 non-null  int64  \n",
            " 34  ncap_rating                            58592 non-null  int64  \n",
            " 35  is_claim                               58592 non-null  int64  \n",
            " 36  area_cluster_C1                        58592 non-null  uint8  \n",
            " 37  area_cluster_C10                       58592 non-null  uint8  \n",
            " 38  area_cluster_C11                       58592 non-null  uint8  \n",
            " 39  area_cluster_C12                       58592 non-null  uint8  \n",
            " 40  area_cluster_C13                       58592 non-null  uint8  \n",
            " 41  area_cluster_C14                       58592 non-null  uint8  \n",
            " 42  area_cluster_C15                       58592 non-null  uint8  \n",
            " 43  area_cluster_C16                       58592 non-null  uint8  \n",
            " 44  area_cluster_C17                       58592 non-null  uint8  \n",
            " 45  area_cluster_C18                       58592 non-null  uint8  \n",
            " 46  area_cluster_C19                       58592 non-null  uint8  \n",
            " 47  area_cluster_C2                        58592 non-null  uint8  \n",
            " 48  area_cluster_C20                       58592 non-null  uint8  \n",
            " 49  area_cluster_C21                       58592 non-null  uint8  \n",
            " 50  area_cluster_C22                       58592 non-null  uint8  \n",
            " 51  area_cluster_C3                        58592 non-null  uint8  \n",
            " 52  area_cluster_C4                        58592 non-null  uint8  \n",
            " 53  area_cluster_C5                        58592 non-null  uint8  \n",
            " 54  area_cluster_C6                        58592 non-null  uint8  \n",
            " 55  area_cluster_C7                        58592 non-null  uint8  \n",
            " 56  area_cluster_C8                        58592 non-null  uint8  \n",
            " 57  area_cluster_C9                        58592 non-null  uint8  \n",
            " 58  segment_A                              58592 non-null  uint8  \n",
            " 59  segment_B1                             58592 non-null  uint8  \n",
            " 60  segment_B2                             58592 non-null  uint8  \n",
            " 61  segment_C1                             58592 non-null  uint8  \n",
            " 62  segment_C2                             58592 non-null  uint8  \n",
            " 63  segment_Utility                        58592 non-null  uint8  \n",
            " 64  model_M1                               58592 non-null  uint8  \n",
            " 65  model_M10                              58592 non-null  uint8  \n",
            " 66  model_M11                              58592 non-null  uint8  \n",
            " 67  model_M2                               58592 non-null  uint8  \n",
            " 68  model_M3                               58592 non-null  uint8  \n",
            " 69  model_M4                               58592 non-null  uint8  \n",
            " 70  model_M5                               58592 non-null  uint8  \n",
            " 71  model_M6                               58592 non-null  uint8  \n",
            " 72  model_M7                               58592 non-null  uint8  \n",
            " 73  model_M8                               58592 non-null  uint8  \n",
            " 74  model_M9                               58592 non-null  uint8  \n",
            " 75  fuel_type_CNG                          58592 non-null  uint8  \n",
            " 76  fuel_type_Diesel                       58592 non-null  uint8  \n",
            " 77  fuel_type_Petrol                       58592 non-null  uint8  \n",
            " 78  rear_brakes_type_Disc                  58592 non-null  uint8  \n",
            " 79  rear_brakes_type_Drum                  58592 non-null  uint8  \n",
            " 80  engine_type_1.0 SCe                    58592 non-null  uint8  \n",
            " 81  engine_type_1.2 L K Series Engine      58592 non-null  uint8  \n",
            " 82  engine_type_1.2 L K12N Dualjet         58592 non-null  uint8  \n",
            " 83  engine_type_1.5 L U2 CRDi              58592 non-null  uint8  \n",
            " 84  engine_type_1.5 Turbocharged Revotorq  58592 non-null  uint8  \n",
            " 85  engine_type_1.5 Turbocharged Revotron  58592 non-null  uint8  \n",
            " 86  engine_type_F8D Petrol Engine          58592 non-null  uint8  \n",
            " 87  engine_type_G12B                       58592 non-null  uint8  \n",
            " 88  engine_type_K Series Dual jet          58592 non-null  uint8  \n",
            " 89  engine_type_K10C                       58592 non-null  uint8  \n",
            " 90  engine_type_i-DTEC                     58592 non-null  uint8  \n",
            " 91  max_torque_Nm                          58592 non-null  float64\n",
            " 92  max_torque_rpm                         58592 non-null  int64  \n",
            " 93  max_power_bhp                          58592 non-null  float64\n",
            " 94  max_power_rpm                          58592 non-null  int64  \n",
            "dtypes: float64(12), int64(27), object(1), uint8(55)\n",
            "memory usage: 21.0+ MB\n"
          ]
        }
      ]
    },
    {
      "cell_type": "code",
      "source": [
        "X = df2.iloc[:,[0,1,2,3,4,5,6,7,8,9,11,12,13,14,15,16,17,18,19,20,21,22,23,24,25,26,27,28,29,30,31,32,33,34,\n",
        "                36,37,38,39,40,41,42,43,44,45,46,47,48,49,50,51,52,53,54,55,56,57,58,59,60,61,62,63,64,65,66,67,68,69,70,\n",
        "                71,72,73,74,75,76,77,78,79,80,81,82,83,84,85,86,87,88,89,90,91,92,93,94]]\n",
        "y =df2.iloc[:,35]\n",
        "print(X.info())\n",
        "print(y)\n"
      ],
      "metadata": {
        "colab": {
          "base_uri": "https://localhost:8080/"
        },
        "id": "eRMrGy1cX6XH",
        "outputId": "4ba5fb19-663e-4655-bfe4-4810aa31b2da"
      },
      "execution_count": null,
      "outputs": [
        {
          "output_type": "stream",
          "name": "stdout",
          "text": [
            "<class 'pandas.core.frame.DataFrame'>\n",
            "RangeIndex: 58592 entries, 0 to 58591\n",
            "Data columns (total 93 columns):\n",
            " #   Column                                 Non-Null Count  Dtype  \n",
            "---  ------                                 --------------  -----  \n",
            " 0   displacement                           58592 non-null  float64\n",
            " 1   turning_radius                         58592 non-null  float64\n",
            " 2   gross_weight                           58592 non-null  float64\n",
            " 3   length                                 58592 non-null  float64\n",
            " 4   width                                  58592 non-null  float64\n",
            " 5   height                                 58592 non-null  float64\n",
            " 6   policy_tenure                          58592 non-null  float64\n",
            " 7   age_of_car                             58592 non-null  float64\n",
            " 8   age_of_policyholder                    58592 non-null  float64\n",
            " 9   population_density                     58592 non-null  float64\n",
            " 10  make                                   58592 non-null  int64  \n",
            " 11  airbags                                58592 non-null  int64  \n",
            " 12  is_esc                                 58592 non-null  int64  \n",
            " 13  is_adjustable_steering                 58592 non-null  int64  \n",
            " 14  is_tpms                                58592 non-null  int64  \n",
            " 15  is_parking_sensors                     58592 non-null  int64  \n",
            " 16  is_parking_camera                      58592 non-null  int64  \n",
            " 17  cylinder                               58592 non-null  int64  \n",
            " 18  transmission_type                      58592 non-null  int64  \n",
            " 19  gear_box                               58592 non-null  int64  \n",
            " 20  steering_type                          58592 non-null  int64  \n",
            " 21  is_front_fog_lights                    58592 non-null  int64  \n",
            " 22  is_rear_window_wiper                   58592 non-null  int64  \n",
            " 23  is_rear_window_washer                  58592 non-null  int64  \n",
            " 24  is_rear_window_defogger                58592 non-null  int64  \n",
            " 25  is_brake_assist                        58592 non-null  int64  \n",
            " 26  is_power_door_locks                    58592 non-null  int64  \n",
            " 27  is_central_locking                     58592 non-null  int64  \n",
            " 28  is_power_steering                      58592 non-null  int64  \n",
            " 29  is_driver_seat_height_adjustable       58592 non-null  int64  \n",
            " 30  is_day_night_rear_view_mirror          58592 non-null  int64  \n",
            " 31  is_ecw                                 58592 non-null  int64  \n",
            " 32  is_speed_alert                         58592 non-null  int64  \n",
            " 33  ncap_rating                            58592 non-null  int64  \n",
            " 34  area_cluster_C1                        58592 non-null  uint8  \n",
            " 35  area_cluster_C10                       58592 non-null  uint8  \n",
            " 36  area_cluster_C11                       58592 non-null  uint8  \n",
            " 37  area_cluster_C12                       58592 non-null  uint8  \n",
            " 38  area_cluster_C13                       58592 non-null  uint8  \n",
            " 39  area_cluster_C14                       58592 non-null  uint8  \n",
            " 40  area_cluster_C15                       58592 non-null  uint8  \n",
            " 41  area_cluster_C16                       58592 non-null  uint8  \n",
            " 42  area_cluster_C17                       58592 non-null  uint8  \n",
            " 43  area_cluster_C18                       58592 non-null  uint8  \n",
            " 44  area_cluster_C19                       58592 non-null  uint8  \n",
            " 45  area_cluster_C2                        58592 non-null  uint8  \n",
            " 46  area_cluster_C20                       58592 non-null  uint8  \n",
            " 47  area_cluster_C21                       58592 non-null  uint8  \n",
            " 48  area_cluster_C22                       58592 non-null  uint8  \n",
            " 49  area_cluster_C3                        58592 non-null  uint8  \n",
            " 50  area_cluster_C4                        58592 non-null  uint8  \n",
            " 51  area_cluster_C5                        58592 non-null  uint8  \n",
            " 52  area_cluster_C6                        58592 non-null  uint8  \n",
            " 53  area_cluster_C7                        58592 non-null  uint8  \n",
            " 54  area_cluster_C8                        58592 non-null  uint8  \n",
            " 55  area_cluster_C9                        58592 non-null  uint8  \n",
            " 56  segment_A                              58592 non-null  uint8  \n",
            " 57  segment_B1                             58592 non-null  uint8  \n",
            " 58  segment_B2                             58592 non-null  uint8  \n",
            " 59  segment_C1                             58592 non-null  uint8  \n",
            " 60  segment_C2                             58592 non-null  uint8  \n",
            " 61  segment_Utility                        58592 non-null  uint8  \n",
            " 62  model_M1                               58592 non-null  uint8  \n",
            " 63  model_M10                              58592 non-null  uint8  \n",
            " 64  model_M11                              58592 non-null  uint8  \n",
            " 65  model_M2                               58592 non-null  uint8  \n",
            " 66  model_M3                               58592 non-null  uint8  \n",
            " 67  model_M4                               58592 non-null  uint8  \n",
            " 68  model_M5                               58592 non-null  uint8  \n",
            " 69  model_M6                               58592 non-null  uint8  \n",
            " 70  model_M7                               58592 non-null  uint8  \n",
            " 71  model_M8                               58592 non-null  uint8  \n",
            " 72  model_M9                               58592 non-null  uint8  \n",
            " 73  fuel_type_CNG                          58592 non-null  uint8  \n",
            " 74  fuel_type_Diesel                       58592 non-null  uint8  \n",
            " 75  fuel_type_Petrol                       58592 non-null  uint8  \n",
            " 76  rear_brakes_type_Disc                  58592 non-null  uint8  \n",
            " 77  rear_brakes_type_Drum                  58592 non-null  uint8  \n",
            " 78  engine_type_1.0 SCe                    58592 non-null  uint8  \n",
            " 79  engine_type_1.2 L K Series Engine      58592 non-null  uint8  \n",
            " 80  engine_type_1.2 L K12N Dualjet         58592 non-null  uint8  \n",
            " 81  engine_type_1.5 L U2 CRDi              58592 non-null  uint8  \n",
            " 82  engine_type_1.5 Turbocharged Revotorq  58592 non-null  uint8  \n",
            " 83  engine_type_1.5 Turbocharged Revotron  58592 non-null  uint8  \n",
            " 84  engine_type_F8D Petrol Engine          58592 non-null  uint8  \n",
            " 85  engine_type_G12B                       58592 non-null  uint8  \n",
            " 86  engine_type_K Series Dual jet          58592 non-null  uint8  \n",
            " 87  engine_type_K10C                       58592 non-null  uint8  \n",
            " 88  engine_type_i-DTEC                     58592 non-null  uint8  \n",
            " 89  max_torque_Nm                          58592 non-null  float64\n",
            " 90  max_torque_rpm                         58592 non-null  int64  \n",
            " 91  max_power_bhp                          58592 non-null  float64\n",
            " 92  max_power_rpm                          58592 non-null  int64  \n",
            "dtypes: float64(12), int64(26), uint8(55)\n",
            "memory usage: 20.1 MB\n",
            "None\n",
            "0        0\n",
            "1        0\n",
            "2        0\n",
            "3        0\n",
            "4        0\n",
            "        ..\n",
            "58587    0\n",
            "58588    0\n",
            "58589    0\n",
            "58590    0\n",
            "58591    0\n",
            "Name: is_claim, Length: 58592, dtype: int64\n"
          ]
        }
      ]
    },
    {
      "cell_type": "code",
      "source": [
        "# Building Model\n",
        "# Dataset is imbalanced hence need to follow oversampling or undersampling."
      ],
      "metadata": {
        "id": "VXCvGQ1gajEX"
      },
      "execution_count": null,
      "outputs": []
    },
    {
      "cell_type": "code",
      "source": [
        "# Oversampling"
      ],
      "metadata": {
        "id": "1ckHzqfOazNX"
      },
      "execution_count": null,
      "outputs": []
    },
    {
      "cell_type": "code",
      "source": [
        "X_train,X_test,y_train,y_test=train_test_split(X,y,test_size=0.30,random_state=42)"
      ],
      "metadata": {
        "id": "xDeszjNVSnZJ"
      },
      "execution_count": null,
      "outputs": []
    },
    {
      "cell_type": "code",
      "source": [
        "print(X_train.shape)\n",
        "print(X_test.shape)\n",
        "print(y_train.shape)\n",
        "print(y_test.shape)"
      ],
      "metadata": {
        "colab": {
          "base_uri": "https://localhost:8080/"
        },
        "id": "8_WTLJSha7o3",
        "outputId": "330c51a3-a465-4541-c682-bd9b9f01da7c"
      },
      "execution_count": null,
      "outputs": [
        {
          "output_type": "stream",
          "name": "stdout",
          "text": [
            "(41014, 93)\n",
            "(17578, 93)\n",
            "(41014,)\n",
            "(17578,)\n"
          ]
        }
      ]
    },
    {
      "cell_type": "code",
      "source": [
        "print(\"Before OverSampling, counts of label '1': {}\".format(sum(y_train == 1)))\n",
        "print(\"Before OverSampling, counts of label '0': {} \\n\".format(sum(y_train == 0)))"
      ],
      "metadata": {
        "colab": {
          "base_uri": "https://localhost:8080/"
        },
        "id": "jXsiiGj3a-JA",
        "outputId": "3d034d61-39d2-4694-a9e8-86e971a8069b"
      },
      "execution_count": null,
      "outputs": [
        {
          "output_type": "stream",
          "name": "stdout",
          "text": [
            "Before OverSampling, counts of label '1': 2587\n",
            "Before OverSampling, counts of label '0': 38427 \n",
            "\n"
          ]
        }
      ]
    },
    {
      "cell_type": "code",
      "source": [
        "from imblearn.over_sampling import SMOTE\n",
        "sm = SMOTE(random_state = 2)\n",
        "X_train_res, y_train_res = sm.fit_resample(X_train, y_train.ravel())\n",
        "  \n",
        "print('After OverSampling, the shape of train_X: {}'.format(X_train_res.shape))\n",
        "print('After OverSampling, the shape of train_y: {} \\n'.format(y_train_res.shape))\n",
        "  \n",
        "print(\"After OverSampling, counts of label '1': {}\".format(sum(y_train_res == 1)))\n",
        "print(\"After OverSampling, counts of label '0': {}\".format(sum(y_train_res == 0)))"
      ],
      "metadata": {
        "colab": {
          "base_uri": "https://localhost:8080/"
        },
        "id": "hhruYGdubAm3",
        "outputId": "ad953364-f689-4d44-9180-10cc9a1214c4"
      },
      "execution_count": null,
      "outputs": [
        {
          "output_type": "stream",
          "name": "stdout",
          "text": [
            "After OverSampling, the shape of train_X: (76854, 93)\n",
            "After OverSampling, the shape of train_y: (76854,) \n",
            "\n",
            "After OverSampling, counts of label '1': 38427\n",
            "After OverSampling, counts of label '0': 38427\n"
          ]
        }
      ]
    },
    {
      "cell_type": "code",
      "source": [
        "import xgboost as xgb\n",
        "from xgboost.sklearn import XGBClassifier\n",
        "from sklearn.model_selection import cross_validate\n",
        "from sklearn.model_selection import GridSearchCV"
      ],
      "metadata": {
        "id": "HQRMMAHXNJY6"
      },
      "execution_count": null,
      "outputs": []
    },
    {
      "cell_type": "code",
      "source": [
        "xgb_cl=xgb.XGBClassifier()"
      ],
      "metadata": {
        "id": "3Zv3mdNmNhIK"
      },
      "execution_count": null,
      "outputs": []
    },
    {
      "cell_type": "code",
      "source": [
        "# fit\n",
        "xgb_cl.fit(X_train_res,y_train_res)\n",
        "# predict\n",
        "preds=xgb_cl.predict(X_test)"
      ],
      "metadata": {
        "id": "IXvEODYTOdwi"
      },
      "execution_count": null,
      "outputs": []
    },
    {
      "cell_type": "code",
      "source": [
        "from sklearn.metrics import classification_report"
      ],
      "metadata": {
        "id": "pmZOj2cQTIA9"
      },
      "execution_count": null,
      "outputs": []
    },
    {
      "cell_type": "code",
      "source": [
        "print(classification_report(y_test,preds))"
      ],
      "metadata": {
        "colab": {
          "base_uri": "https://localhost:8080/"
        },
        "id": "aiauOmpaOpoS",
        "outputId": "21ff606d-109d-42df-8120-03137263c865"
      },
      "execution_count": null,
      "outputs": [
        {
          "output_type": "stream",
          "name": "stdout",
          "text": [
            "              precision    recall  f1-score   support\n",
            "\n",
            "           0       0.94      0.82      0.88     16417\n",
            "           1       0.10      0.30      0.16      1161\n",
            "\n",
            "    accuracy                           0.78     17578\n",
            "   macro avg       0.52      0.56      0.52     17578\n",
            "weighted avg       0.89      0.78      0.83     17578\n",
            "\n"
          ]
        }
      ]
    },
    {
      "cell_type": "code",
      "source": [
        "preds_train=xgb_cl.predict(X_train_res)"
      ],
      "metadata": {
        "id": "VMq6ZvBsOz6S"
      },
      "execution_count": null,
      "outputs": []
    },
    {
      "cell_type": "code",
      "source": [
        "print(classification_report(y_train_res,preds_train))"
      ],
      "metadata": {
        "colab": {
          "base_uri": "https://localhost:8080/"
        },
        "id": "xLSoa7OMO9xy",
        "outputId": "a52de970-0171-4370-f793-7602f441a5c2"
      },
      "execution_count": null,
      "outputs": [
        {
          "output_type": "stream",
          "name": "stdout",
          "text": [
            "              precision    recall  f1-score   support\n",
            "\n",
            "           0       0.83      0.82      0.83     38427\n",
            "           1       0.82      0.83      0.83     38427\n",
            "\n",
            "    accuracy                           0.83     76854\n",
            "   macro avg       0.83      0.83      0.83     76854\n",
            "weighted avg       0.83      0.83      0.83     76854\n",
            "\n"
          ]
        }
      ]
    },
    {
      "cell_type": "code",
      "source": [
        "# final_df = pd.concat((df4_test,prediction),axis = 1 )"
      ],
      "metadata": {
        "id": "Um59RJDaXS1S"
      },
      "execution_count": null,
      "outputs": []
    },
    {
      "cell_type": "code",
      "source": [
        "# final_df.head()"
      ],
      "metadata": {
        "id": "ElGrYLIuXjMC"
      },
      "execution_count": null,
      "outputs": []
    },
    {
      "cell_type": "code",
      "source": [
        "# final_df.rename(columns = {0:'is_claim'}, inplace = True)"
      ],
      "metadata": {
        "id": "IOCrqsRDXliS"
      },
      "execution_count": null,
      "outputs": []
    },
    {
      "cell_type": "code",
      "source": [
        "# final_csv1 = final_df.to_csv('final_csv1.csv', index = False)"
      ],
      "metadata": {
        "id": "BGpFdrAyYCgj"
      },
      "execution_count": null,
      "outputs": []
    },
    {
      "cell_type": "code",
      "source": [
        "# final_df.to_csv(r'C:\\Users\\Administrator\\Desktop\\final_csv_hackthon.csv')"
      ],
      "metadata": {
        "id": "dRqczljjYp4R"
      },
      "execution_count": null,
      "outputs": []
    },
    {
      "cell_type": "code",
      "source": [
        "from sklearn.model_selection import GridSearchCV\n",
        "from sklearn.ensemble import RandomForestClassifier"
      ],
      "metadata": {
        "id": "XLxtmu1DoUXj"
      },
      "execution_count": null,
      "outputs": []
    },
    {
      "cell_type": "code",
      "source": [
        "# Now will perform RandomForest Classifier\n",
        "\n",
        "param_grid = { \n",
        "    'n_estimators': [200, 500],\n",
        "    'max_features': ['auto', 'sqrt', 'log2'],\n",
        "    'max_depth' : [4,5,6,7,8],\n",
        "    'criterion' :['gini', 'entropy']\n",
        "}"
      ],
      "metadata": {
        "id": "6JN6Hd1q_Tz9"
      },
      "execution_count": null,
      "outputs": []
    },
    {
      "cell_type": "code",
      "source": [
        "from sklearn.model_selection import GridSearchCV\n",
        "from sklearn.ensemble import RandomForestClassifier\n",
        "rfc=RandomForestClassifier()\n",
        "CV_rfc = GridSearchCV(estimator=rfc, param_grid=param_grid, cv= 5)\n",
        "CV_rfc.fit(X_train_res, y_train_res)"
      ],
      "metadata": {
        "id": "qoEF4hWK_T77"
      },
      "execution_count": null,
      "outputs": []
    },
    {
      "cell_type": "code",
      "source": [
        "CV_rfc.best_params_"
      ],
      "metadata": {
        "id": "JmMNFp1b_f_z",
        "colab": {
          "base_uri": "https://localhost:8080/"
        },
        "outputId": "926d0bda-1b61-4ed5-d79c-f032a727f14b"
      },
      "execution_count": null,
      "outputs": [
        {
          "output_type": "execute_result",
          "data": {
            "text/plain": [
              "{'criterion': 'gini',\n",
              " 'max_depth': 8,\n",
              " 'max_features': 'auto',\n",
              " 'n_estimators': 500}"
            ]
          },
          "metadata": {},
          "execution_count": 325
        }
      ]
    },
    {
      "cell_type": "code",
      "source": [
        "model2=RandomForestClassifier(criterion='gini',max_depth=8,max_features='auto',n_estimators=500)\n",
        "model2.fit(X_train_res,y_train_res)\n",
        "y_pred2=model2.predict(X_test)\n",
        "\n",
        "# print(\"confusion matrix_test\")\n",
        "# print(confusion_matrix(y_test,y_pred2))\n",
        "\n",
        "print(\"classification report_test\")\n",
        "print(classification_report(y_test,y_pred2))"
      ],
      "metadata": {
        "colab": {
          "base_uri": "https://localhost:8080/"
        },
        "id": "Bn-zSlZ5ZRWK",
        "outputId": "b8abd342-5261-4ef2-a609-3fc24167f0cd"
      },
      "execution_count": null,
      "outputs": [
        {
          "output_type": "stream",
          "name": "stdout",
          "text": [
            "classification report_test\n",
            "              precision    recall  f1-score   support\n",
            "\n",
            "           0       0.95      0.59      0.73     16417\n",
            "           1       0.09      0.60      0.16      1161\n",
            "\n",
            "    accuracy                           0.59     17578\n",
            "   macro avg       0.52      0.60      0.45     17578\n",
            "weighted avg       0.90      0.59      0.69     17578\n",
            "\n"
          ]
        }
      ]
    },
    {
      "cell_type": "code",
      "source": [
        "preds_train_rf=model2.predict(X_train_res)"
      ],
      "metadata": {
        "id": "5pcjAo5oRTs5"
      },
      "execution_count": null,
      "outputs": []
    },
    {
      "cell_type": "code",
      "source": [
        "print(classification_report(y_train_res,preds_train_rf))"
      ],
      "metadata": {
        "colab": {
          "base_uri": "https://localhost:8080/"
        },
        "id": "NnSIBB5ZRabN",
        "outputId": "6bfc918d-0c0a-41ef-cc0a-32b6b0a8ce4d"
      },
      "execution_count": null,
      "outputs": [
        {
          "output_type": "stream",
          "name": "stdout",
          "text": [
            "              precision    recall  f1-score   support\n",
            "\n",
            "           0       0.77      0.60      0.67     38427\n",
            "           1       0.67      0.82      0.74     38427\n",
            "\n",
            "    accuracy                           0.71     76854\n",
            "   macro avg       0.72      0.71      0.71     76854\n",
            "weighted avg       0.72      0.71      0.71     76854\n",
            "\n"
          ]
        }
      ]
    },
    {
      "cell_type": "code",
      "source": [
        "# %pip install catboost\n",
        "from catboost import CatBoostClassifier\n",
        "catboost_params = {'loss_function' : 'CrossEntropy',\n",
        "            'iterations': 2000,\n",
        "            'depth': 5,\n",
        "            'learning_rate': 0.01,\n",
        "            'eval_metric': 'AUC',\n",
        "            'random_seed': 4,\n",
        "            'l2_leaf_reg': 15.0,\n",
        "            'bagging_temperature': 0.75,\n",
        "            'allow_writing_files': False, 'border_count':50\n",
        "        }\n",
        "model = CatBoostClassifier(**catboost_params)\n",
        "model.fit(X_train_res, y_train_res,verbose=False)"
      ],
      "metadata": {
        "colab": {
          "base_uri": "https://localhost:8080/"
        },
        "id": "0UDrfgF9SiYN",
        "outputId": "e8d97a83-66e6-41e5-a8a9-2d9956b3b92c"
      },
      "execution_count": null,
      "outputs": [
        {
          "output_type": "execute_result",
          "data": {
            "text/plain": [
              "<catboost.core.CatBoostClassifier at 0x7fbdce20ea50>"
            ]
          },
          "metadata": {},
          "execution_count": 329
        }
      ]
    },
    {
      "cell_type": "code",
      "source": [
        "y_pred_catboost=model.predict(X_test)\n",
        "from sklearn.metrics import classification_report\n",
        "print(classification_report(y_test, y_pred_catboost))\n",
        "from sklearn.metrics import roc_auc_score\n",
        "print(roc_auc_score(y_test,y_pred_catboost))"
      ],
      "metadata": {
        "colab": {
          "base_uri": "https://localhost:8080/"
        },
        "id": "rWPyPPTKS0ls",
        "outputId": "ea53a2e4-736d-4598-8e00-09da7b9273e1"
      },
      "execution_count": null,
      "outputs": [
        {
          "output_type": "stream",
          "name": "stdout",
          "text": [
            "              precision    recall  f1-score   support\n",
            "\n",
            "           0       0.94      0.96      0.95     16417\n",
            "           1       0.15      0.10      0.12      1161\n",
            "\n",
            "    accuracy                           0.90     17578\n",
            "   macro avg       0.54      0.53      0.53     17578\n",
            "weighted avg       0.89      0.90      0.89     17578\n",
            "\n",
            "0.5303212143753215\n"
          ]
        }
      ]
    },
    {
      "cell_type": "code",
      "source": [
        "from sklearn.metrics import confusion_matrix\n",
        "from sklearn.metrics import plot_confusion_matrix\n",
        "plot_confusion_matrix(model,X_test,y_test)"
      ],
      "metadata": {
        "colab": {
          "base_uri": "https://localhost:8080/",
          "height": 591
        },
        "id": "2ebsN6L5Vylo",
        "outputId": "0b604623-a1c6-4d07-9793-c2bea83eedca"
      },
      "execution_count": null,
      "outputs": [
        {
          "output_type": "execute_result",
          "data": {
            "text/plain": [
              "<sklearn.metrics._plot.confusion_matrix.ConfusionMatrixDisplay at 0x7fbdce20e090>"
            ]
          },
          "metadata": {},
          "execution_count": 331
        },
        {
          "output_type": "display_data",
          "data": {
            "text/plain": [
              "<Figure size 432x720 with 2 Axes>"
            ],
            "image/png": "[encoded data removed]"
          },
          "metadata": {}
        }
      ]
    },
    {
      "cell_type": "code",
      "source": [
        "y_pred_catboost_train=model.predict(X_train_res)\n",
        "print(classification_report(y_train_res,y_pred_catboost_train))"
      ],
      "metadata": {
        "colab": {
          "base_uri": "https://localhost:8080/"
        },
        "id": "jIu5h9vPV_J5",
        "outputId": "70435a33-2381-4532-bc7c-fa3f5c675781"
      },
      "execution_count": null,
      "outputs": [
        {
          "output_type": "stream",
          "name": "stdout",
          "text": [
            "              precision    recall  f1-score   support\n",
            "\n",
            "           0       0.84      0.96      0.90     38427\n",
            "           1       0.95      0.82      0.88     38427\n",
            "\n",
            "    accuracy                           0.89     76854\n",
            "   macro avg       0.90      0.89      0.89     76854\n",
            "weighted avg       0.90      0.89      0.89     76854\n",
            "\n"
          ]
        }
      ]
    },
    {
      "cell_type": "code",
      "source": [
        "df2.info()"
      ],
      "metadata": {
        "colab": {
          "base_uri": "https://localhost:8080/"
        },
        "id": "1eazaTPNX-DM",
        "outputId": "d2f41cfc-c65f-4673-cbd1-bdca0a4f89ac"
      },
      "execution_count": null,
      "outputs": [
        {
          "output_type": "stream",
          "name": "stdout",
          "text": [
            "<class 'pandas.core.frame.DataFrame'>\n",
            "RangeIndex: 58592 entries, 0 to 58591\n",
            "Data columns (total 95 columns):\n",
            " #   Column                                 Non-Null Count  Dtype  \n",
            "---  ------                                 --------------  -----  \n",
            " 0   displacement                           58592 non-null  float64\n",
            " 1   turning_radius                         58592 non-null  float64\n",
            " 2   gross_weight                           58592 non-null  float64\n",
            " 3   length                                 58592 non-null  float64\n",
            " 4   width                                  58592 non-null  float64\n",
            " 5   height                                 58592 non-null  float64\n",
            " 6   policy_tenure                          58592 non-null  float64\n",
            " 7   age_of_car                             58592 non-null  float64\n",
            " 8   age_of_policyholder                    58592 non-null  float64\n",
            " 9   population_density                     58592 non-null  float64\n",
            " 10  policy_id                              58592 non-null  object \n",
            " 11  make                                   58592 non-null  int64  \n",
            " 12  airbags                                58592 non-null  int64  \n",
            " 13  is_esc                                 58592 non-null  int64  \n",
            " 14  is_adjustable_steering                 58592 non-null  int64  \n",
            " 15  is_tpms                                58592 non-null  int64  \n",
            " 16  is_parking_sensors                     58592 non-null  int64  \n",
            " 17  is_parking_camera                      58592 non-null  int64  \n",
            " 18  cylinder                               58592 non-null  int64  \n",
            " 19  transmission_type                      58592 non-null  int64  \n",
            " 20  gear_box                               58592 non-null  int64  \n",
            " 21  steering_type                          58592 non-null  int64  \n",
            " 22  is_front_fog_lights                    58592 non-null  int64  \n",
            " 23  is_rear_window_wiper                   58592 non-null  int64  \n",
            " 24  is_rear_window_washer                  58592 non-null  int64  \n",
            " 25  is_rear_window_defogger                58592 non-null  int64  \n",
            " 26  is_brake_assist                        58592 non-null  int64  \n",
            " 27  is_power_door_locks                    58592 non-null  int64  \n",
            " 28  is_central_locking                     58592 non-null  int64  \n",
            " 29  is_power_steering                      58592 non-null  int64  \n",
            " 30  is_driver_seat_height_adjustable       58592 non-null  int64  \n",
            " 31  is_day_night_rear_view_mirror          58592 non-null  int64  \n",
            " 32  is_ecw                                 58592 non-null  int64  \n",
            " 33  is_speed_alert                         58592 non-null  int64  \n",
            " 34  ncap_rating                            58592 non-null  int64  \n",
            " 35  is_claim                               58592 non-null  int64  \n",
            " 36  area_cluster_C1                        58592 non-null  uint8  \n",
            " 37  area_cluster_C10                       58592 non-null  uint8  \n",
            " 38  area_cluster_C11                       58592 non-null  uint8  \n",
            " 39  area_cluster_C12                       58592 non-null  uint8  \n",
            " 40  area_cluster_C13                       58592 non-null  uint8  \n",
            " 41  area_cluster_C14                       58592 non-null  uint8  \n",
            " 42  area_cluster_C15                       58592 non-null  uint8  \n",
            " 43  area_cluster_C16                       58592 non-null  uint8  \n",
            " 44  area_cluster_C17                       58592 non-null  uint8  \n",
            " 45  area_cluster_C18                       58592 non-null  uint8  \n",
            " 46  area_cluster_C19                       58592 non-null  uint8  \n",
            " 47  area_cluster_C2                        58592 non-null  uint8  \n",
            " 48  area_cluster_C20                       58592 non-null  uint8  \n",
            " 49  area_cluster_C21                       58592 non-null  uint8  \n",
            " 50  area_cluster_C22                       58592 non-null  uint8  \n",
            " 51  area_cluster_C3                        58592 non-null  uint8  \n",
            " 52  area_cluster_C4                        58592 non-null  uint8  \n",
            " 53  area_cluster_C5                        58592 non-null  uint8  \n",
            " 54  area_cluster_C6                        58592 non-null  uint8  \n",
            " 55  area_cluster_C7                        58592 non-null  uint8  \n",
            " 56  area_cluster_C8                        58592 non-null  uint8  \n",
            " 57  area_cluster_C9                        58592 non-null  uint8  \n",
            " 58  segment_A                              58592 non-null  uint8  \n",
            " 59  segment_B1                             58592 non-null  uint8  \n",
            " 60  segment_B2                             58592 non-null  uint8  \n",
            " 61  segment_C1                             58592 non-null  uint8  \n",
            " 62  segment_C2                             58592 non-null  uint8  \n",
            " 63  segment_Utility                        58592 non-null  uint8  \n",
            " 64  model_M1                               58592 non-null  uint8  \n",
            " 65  model_M10                              58592 non-null  uint8  \n",
            " 66  model_M11                              58592 non-null  uint8  \n",
            " 67  model_M2                               58592 non-null  uint8  \n",
            " 68  model_M3                               58592 non-null  uint8  \n",
            " 69  model_M4                               58592 non-null  uint8  \n",
            " 70  model_M5                               58592 non-null  uint8  \n",
            " 71  model_M6                               58592 non-null  uint8  \n",
            " 72  model_M7                               58592 non-null  uint8  \n",
            " 73  model_M8                               58592 non-null  uint8  \n",
            " 74  model_M9                               58592 non-null  uint8  \n",
            " 75  fuel_type_CNG                          58592 non-null  uint8  \n",
            " 76  fuel_type_Diesel                       58592 non-null  uint8  \n",
            " 77  fuel_type_Petrol                       58592 non-null  uint8  \n",
            " 78  rear_brakes_type_Disc                  58592 non-null  uint8  \n",
            " 79  rear_brakes_type_Drum                  58592 non-null  uint8  \n",
            " 80  engine_type_1.0 SCe                    58592 non-null  uint8  \n",
            " 81  engine_type_1.2 L K Series Engine      58592 non-null  uint8  \n",
            " 82  engine_type_1.2 L K12N Dualjet         58592 non-null  uint8  \n",
            " 83  engine_type_1.5 L U2 CRDi              58592 non-null  uint8  \n",
            " 84  engine_type_1.5 Turbocharged Revotorq  58592 non-null  uint8  \n",
            " 85  engine_type_1.5 Turbocharged Revotron  58592 non-null  uint8  \n",
            " 86  engine_type_F8D Petrol Engine          58592 non-null  uint8  \n",
            " 87  engine_type_G12B                       58592 non-null  uint8  \n",
            " 88  engine_type_K Series Dual jet          58592 non-null  uint8  \n",
            " 89  engine_type_K10C                       58592 non-null  uint8  \n",
            " 90  engine_type_i-DTEC                     58592 non-null  uint8  \n",
            " 91  max_torque_Nm                          58592 non-null  float64\n",
            " 92  max_torque_rpm                         58592 non-null  int64  \n",
            " 93  max_power_bhp                          58592 non-null  float64\n",
            " 94  max_power_rpm                          58592 non-null  int64  \n",
            "dtypes: float64(12), int64(27), object(1), uint8(55)\n",
            "memory usage: 21.0+ MB\n"
          ]
        }
      ]
    },
    {
      "cell_type": "code",
      "source": [
        "XX = df2.iloc[:,[6,8,7,36,37,38,39,40,41,42,43,44,45,46,47,48,49,50,51,52,53,54,55,56,57,2,64,65,66,67,68,69,70,71,72,73,74,75,76,77,78,79,91,92,93,94,3,4,12,\n",
        "                 58,59,60,61,62,63,20]]\n",
        "yy =df2.iloc[:,35]\n",
        "print(XX.info())\n",
        "print(yy)\n",
        "\n",
        "\n",
        "XX_train,XX_test,yy_train,yy_test=train_test_split(XX,yy,test_size=0.30,random_state=3)\n",
        "\n",
        "print(\"Before OverSampling, counts of label '1': {}\".format(sum(yy_train == 1)))\n",
        "print(\"Before OverSampling, counts of label '0': {} \\n\".format(sum(yy_train == 0)))\n",
        "from imblearn.over_sampling import SMOTE\n",
        "sm = SMOTE(random_state = 3)\n",
        "XX_train_res, yy_train_res = sm.fit_resample(XX_train, yy_train.ravel())\n",
        "  \n",
        "print('After OverSampling, the shape of train_X: {}'.format(XX_train_res.shape))\n",
        "print('After OverSampling, the shape of train_y: {} \\n'.format(yy_train_res.shape))\n",
        "  \n",
        "print(\"After OverSampling, counts of label '1': {}\".format(sum(yy_train_res == 1)))\n",
        "print(\"After OverSampling, counts of label '0': {}\".format(sum(yy_train_res == 0)))\n",
        "\n",
        "xgb_cl=xgb.XGBClassifier()\n",
        "\n",
        "# fit\n",
        "xgb_cl.fit(XX_train_res,yy_train_res)\n",
        "# predict\n",
        "preds=xgb_cl.predict(XX_test)\n",
        "print(\"test data_report\")\n",
        "print(classification_report(yy_test,preds))\n",
        "\n",
        "print(\"train data report\")\n",
        "preds_train=xgb_cl.predict(XX_train_res)\n",
        "print(classification_report(yy_train_res,preds_train))\n",
        "\n",
        "from sklearn.metrics import confusion_matrix\n",
        "from sklearn.metrics import plot_confusion_matrix\n",
        "plot_confusion_matrix(model,XX_test,yy_test)"
      ],
      "metadata": {
        "colab": {
          "base_uri": "https://localhost:8080/",
          "height": 1000
        },
        "id": "Gka0FWuWZl2g",
        "outputId": "84bd1829-6c45-4e85-9f2e-582fe58ed78f"
      },
      "execution_count": null,
      "outputs": [
        {
          "output_type": "stream",
          "name": "stdout",
          "text": [
            "<class 'pandas.core.frame.DataFrame'>\n",
            "RangeIndex: 58592 entries, 0 to 58591\n",
            "Data columns (total 56 columns):\n",
            " #   Column                 Non-Null Count  Dtype  \n",
            "---  ------                 --------------  -----  \n",
            " 0   policy_tenure          58592 non-null  float64\n",
            " 1   age_of_policyholder    58592 non-null  float64\n",
            " 2   age_of_car             58592 non-null  float64\n",
            " 3   area_cluster_C1        58592 non-null  uint8  \n",
            " 4   area_cluster_C10       58592 non-null  uint8  \n",
            " 5   area_cluster_C11       58592 non-null  uint8  \n",
            " 6   area_cluster_C12       58592 non-null  uint8  \n",
            " 7   area_cluster_C13       58592 non-null  uint8  \n",
            " 8   area_cluster_C14       58592 non-null  uint8  \n",
            " 9   area_cluster_C15       58592 non-null  uint8  \n",
            " 10  area_cluster_C16       58592 non-null  uint8  \n",
            " 11  area_cluster_C17       58592 non-null  uint8  \n",
            " 12  area_cluster_C18       58592 non-null  uint8  \n",
            " 13  area_cluster_C19       58592 non-null  uint8  \n",
            " 14  area_cluster_C2        58592 non-null  uint8  \n",
            " 15  area_cluster_C20       58592 non-null  uint8  \n",
            " 16  area_cluster_C21       58592 non-null  uint8  \n",
            " 17  area_cluster_C22       58592 non-null  uint8  \n",
            " 18  area_cluster_C3        58592 non-null  uint8  \n",
            " 19  area_cluster_C4        58592 non-null  uint8  \n",
            " 20  area_cluster_C5        58592 non-null  uint8  \n",
            " 21  area_cluster_C6        58592 non-null  uint8  \n",
            " 22  area_cluster_C7        58592 non-null  uint8  \n",
            " 23  area_cluster_C8        58592 non-null  uint8  \n",
            " 24  area_cluster_C9        58592 non-null  uint8  \n",
            " 25  gross_weight           58592 non-null  float64\n",
            " 26  model_M1               58592 non-null  uint8  \n",
            " 27  model_M10              58592 non-null  uint8  \n",
            " 28  model_M11              58592 non-null  uint8  \n",
            " 29  model_M2               58592 non-null  uint8  \n",
            " 30  model_M3               58592 non-null  uint8  \n",
            " 31  model_M4               58592 non-null  uint8  \n",
            " 32  model_M5               58592 non-null  uint8  \n",
            " 33  model_M6               58592 non-null  uint8  \n",
            " 34  model_M7               58592 non-null  uint8  \n",
            " 35  model_M8               58592 non-null  uint8  \n",
            " 36  model_M9               58592 non-null  uint8  \n",
            " 37  fuel_type_CNG          58592 non-null  uint8  \n",
            " 38  fuel_type_Diesel       58592 non-null  uint8  \n",
            " 39  fuel_type_Petrol       58592 non-null  uint8  \n",
            " 40  rear_brakes_type_Disc  58592 non-null  uint8  \n",
            " 41  rear_brakes_type_Drum  58592 non-null  uint8  \n",
            " 42  max_torque_Nm          58592 non-null  float64\n",
            " 43  max_torque_rpm         58592 non-null  int64  \n",
            " 44  max_power_bhp          58592 non-null  float64\n",
            " 45  max_power_rpm          58592 non-null  int64  \n",
            " 46  length                 58592 non-null  float64\n",
            " 47  width                  58592 non-null  float64\n",
            " 48  airbags                58592 non-null  int64  \n",
            " 49  segment_A              58592 non-null  uint8  \n",
            " 50  segment_B1             58592 non-null  uint8  \n",
            " 51  segment_B2             58592 non-null  uint8  \n",
            " 52  segment_C1             58592 non-null  uint8  \n",
            " 53  segment_C2             58592 non-null  uint8  \n",
            " 54  segment_Utility        58592 non-null  uint8  \n",
            " 55  gear_box               58592 non-null  int64  \n",
            "dtypes: float64(8), int64(4), uint8(44)\n",
            "memory usage: 7.8 MB\n",
            "None\n",
            "0        0\n",
            "1        0\n",
            "2        0\n",
            "3        0\n",
            "4        0\n",
            "        ..\n",
            "58587    0\n",
            "58588    0\n",
            "58589    0\n",
            "58590    0\n",
            "58591    0\n",
            "Name: is_claim, Length: 58592, dtype: int64\n",
            "Before OverSampling, counts of label '1': 2568\n",
            "Before OverSampling, counts of label '0': 38446 \n",
            "\n",
            "After OverSampling, the shape of train_X: (76892, 56)\n",
            "After OverSampling, the shape of train_y: (76892,) \n",
            "\n",
            "After OverSampling, counts of label '1': 38446\n",
            "After OverSampling, counts of label '0': 38446\n",
            "test data_report\n",
            "              precision    recall  f1-score   support\n",
            "\n",
            "           0       0.95      0.76      0.84     16398\n",
            "           1       0.11      0.41      0.17      1180\n",
            "\n",
            "    accuracy                           0.74     17578\n",
            "   macro avg       0.53      0.58      0.51     17578\n",
            "weighted avg       0.89      0.74      0.80     17578\n",
            "\n",
            "train data report\n",
            "              precision    recall  f1-score   support\n",
            "\n",
            "           0       0.81      0.77      0.79     38446\n",
            "           1       0.78      0.82      0.80     38446\n",
            "\n",
            "    accuracy                           0.79     76892\n",
            "   macro avg       0.80      0.79      0.79     76892\n",
            "weighted avg       0.80      0.79      0.79     76892\n",
            "\n"
          ]
        },
        {
          "output_type": "execute_result",
          "data": {
            "text/plain": [
              "<sklearn.metrics._plot.confusion_matrix.ConfusionMatrixDisplay at 0x7fbdef4034d0>"
            ]
          },
          "metadata": {},
          "execution_count": 368
        },
        {
          "output_type": "display_data",
          "data": {
            "text/plain": [
              "<Figure size 432x720 with 2 Axes>"
            ],
            "image/png": "[encoded data removed]"
          },
          "metadata": {}
        }
      ]
    },
    {
      "cell_type": "code",
      "source": [
        "df_test2.drop(['policy_id'],axis =1 , inplace = True)"
      ],
      "metadata": {
        "id": "BPFFSaeGbG5T"
      },
      "execution_count": null,
      "outputs": []
    },
    {
      "cell_type": "code",
      "source": [
        "df_test2.info()"
      ],
      "metadata": {
        "colab": {
          "base_uri": "https://localhost:8080/"
        },
        "id": "uhHODc6LcFaX",
        "outputId": "5fa7d6f0-065d-4289-dc81-ba6657bc5f25"
      },
      "execution_count": null,
      "outputs": [
        {
          "output_type": "stream",
          "name": "stdout",
          "text": [
            "<class 'pandas.core.frame.DataFrame'>\n",
            "RangeIndex: 39063 entries, 0 to 39062\n",
            "Data columns (total 93 columns):\n",
            " #   Column                                 Non-Null Count  Dtype  \n",
            "---  ------                                 --------------  -----  \n",
            " 0   displacement                           39063 non-null  float64\n",
            " 1   turning_radius                         39063 non-null  float64\n",
            " 2   gross_weight                           39063 non-null  float64\n",
            " 3   length                                 39063 non-null  float64\n",
            " 4   width                                  39063 non-null  float64\n",
            " 5   height                                 39063 non-null  float64\n",
            " 6   policy_tenure                          39063 non-null  float64\n",
            " 7   age_of_car                             39063 non-null  float64\n",
            " 8   age_of_policyholder                    39063 non-null  float64\n",
            " 9   population_density                     39063 non-null  float64\n",
            " 10  make                                   39063 non-null  int64  \n",
            " 11  airbags                                39063 non-null  int64  \n",
            " 12  is_esc                                 39063 non-null  int64  \n",
            " 13  is_adjustable_steering                 39063 non-null  int64  \n",
            " 14  is_tpms                                39063 non-null  int64  \n",
            " 15  is_parking_sensors                     39063 non-null  int64  \n",
            " 16  is_parking_camera                      39063 non-null  int64  \n",
            " 17  cylinder                               39063 non-null  int64  \n",
            " 18  transmission_type                      39063 non-null  int64  \n",
            " 19  gear_box                               39063 non-null  int64  \n",
            " 20  steering_type                          39063 non-null  int64  \n",
            " 21  is_front_fog_lights                    39063 non-null  int64  \n",
            " 22  is_rear_window_wiper                   39063 non-null  int64  \n",
            " 23  is_rear_window_washer                  39063 non-null  int64  \n",
            " 24  is_rear_window_defogger                39063 non-null  int64  \n",
            " 25  is_brake_assist                        39063 non-null  int64  \n",
            " 26  is_power_door_locks                    39063 non-null  int64  \n",
            " 27  is_central_locking                     39063 non-null  int64  \n",
            " 28  is_power_steering                      39063 non-null  int64  \n",
            " 29  is_driver_seat_height_adjustable       39063 non-null  int64  \n",
            " 30  is_day_night_rear_view_mirror          39063 non-null  int64  \n",
            " 31  is_ecw                                 39063 non-null  int64  \n",
            " 32  is_speed_alert                         39063 non-null  int64  \n",
            " 33  ncap_rating                            39063 non-null  int64  \n",
            " 34  area_cluster_C1                        39063 non-null  uint8  \n",
            " 35  area_cluster_C10                       39063 non-null  uint8  \n",
            " 36  area_cluster_C11                       39063 non-null  uint8  \n",
            " 37  area_cluster_C12                       39063 non-null  uint8  \n",
            " 38  area_cluster_C13                       39063 non-null  uint8  \n",
            " 39  area_cluster_C14                       39063 non-null  uint8  \n",
            " 40  area_cluster_C15                       39063 non-null  uint8  \n",
            " 41  area_cluster_C16                       39063 non-null  uint8  \n",
            " 42  area_cluster_C17                       39063 non-null  uint8  \n",
            " 43  area_cluster_C18                       39063 non-null  uint8  \n",
            " 44  area_cluster_C19                       39063 non-null  uint8  \n",
            " 45  area_cluster_C2                        39063 non-null  uint8  \n",
            " 46  area_cluster_C20                       39063 non-null  uint8  \n",
            " 47  area_cluster_C21                       39063 non-null  uint8  \n",
            " 48  area_cluster_C22                       39063 non-null  uint8  \n",
            " 49  area_cluster_C3                        39063 non-null  uint8  \n",
            " 50  area_cluster_C4                        39063 non-null  uint8  \n",
            " 51  area_cluster_C5                        39063 non-null  uint8  \n",
            " 52  area_cluster_C6                        39063 non-null  uint8  \n",
            " 53  area_cluster_C7                        39063 non-null  uint8  \n",
            " 54  area_cluster_C8                        39063 non-null  uint8  \n",
            " 55  area_cluster_C9                        39063 non-null  uint8  \n",
            " 56  segment_A                              39063 non-null  uint8  \n",
            " 57  segment_B1                             39063 non-null  uint8  \n",
            " 58  segment_B2                             39063 non-null  uint8  \n",
            " 59  segment_C1                             39063 non-null  uint8  \n",
            " 60  segment_C2                             39063 non-null  uint8  \n",
            " 61  segment_Utility                        39063 non-null  uint8  \n",
            " 62  model_M1                               39063 non-null  uint8  \n",
            " 63  model_M10                              39063 non-null  uint8  \n",
            " 64  model_M11                              39063 non-null  uint8  \n",
            " 65  model_M2                               39063 non-null  uint8  \n",
            " 66  model_M3                               39063 non-null  uint8  \n",
            " 67  model_M4                               39063 non-null  uint8  \n",
            " 68  model_M5                               39063 non-null  uint8  \n",
            " 69  model_M6                               39063 non-null  uint8  \n",
            " 70  model_M7                               39063 non-null  uint8  \n",
            " 71  model_M8                               39063 non-null  uint8  \n",
            " 72  model_M9                               39063 non-null  uint8  \n",
            " 73  fuel_type_CNG                          39063 non-null  uint8  \n",
            " 74  fuel_type_Diesel                       39063 non-null  uint8  \n",
            " 75  fuel_type_Petrol                       39063 non-null  uint8  \n",
            " 76  rear_brakes_type_Disc                  39063 non-null  uint8  \n",
            " 77  rear_brakes_type_Drum                  39063 non-null  uint8  \n",
            " 78  engine_type_1.0 SCe                    39063 non-null  uint8  \n",
            " 79  engine_type_1.2 L K Series Engine      39063 non-null  uint8  \n",
            " 80  engine_type_1.2 L K12N Dualjet         39063 non-null  uint8  \n",
            " 81  engine_type_1.5 L U2 CRDi              39063 non-null  uint8  \n",
            " 82  engine_type_1.5 Turbocharged Revotorq  39063 non-null  uint8  \n",
            " 83  engine_type_1.5 Turbocharged Revotron  39063 non-null  uint8  \n",
            " 84  engine_type_F8D Petrol Engine          39063 non-null  uint8  \n",
            " 85  engine_type_G12B                       39063 non-null  uint8  \n",
            " 86  engine_type_K Series Dual jet          39063 non-null  uint8  \n",
            " 87  engine_type_K10C                       39063 non-null  uint8  \n",
            " 88  engine_type_i-DTEC                     39063 non-null  uint8  \n",
            " 89  max_torque_Nm                          39063 non-null  float64\n",
            " 90  max_torque_rpm                         39063 non-null  int64  \n",
            " 91  max_power_bhp                          39063 non-null  float64\n",
            " 92  max_power_rpm                          39063 non-null  int64  \n",
            "dtypes: float64(12), int64(26), uint8(55)\n",
            "memory usage: 13.4 MB\n"
          ]
        }
      ]
    },
    {
      "cell_type": "code",
      "source": [
        "df_test3 = df_test2.iloc[:,[6,8,7,34,35,36,37,38,39,40,41,42,43,44,45,46,47,48,49,50,51,52,53,54,55,2,62,63,64,65,66,67,68,69,70,71,72,73,74,75,76,77,89,90,91,92,3,4,11,56,57,58,59,60,61,19]]"
      ],
      "metadata": {
        "id": "CIAYoqaacwxJ"
      },
      "execution_count": null,
      "outputs": []
    },
    {
      "cell_type": "code",
      "source": [
        "df_test3.info()"
      ],
      "metadata": {
        "colab": {
          "base_uri": "https://localhost:8080/"
        },
        "id": "fUYzuVlitQif",
        "outputId": "3c17d928-463f-4ad0-f072-39804fb41169"
      },
      "execution_count": null,
      "outputs": [
        {
          "output_type": "stream",
          "name": "stdout",
          "text": [
            "<class 'pandas.core.frame.DataFrame'>\n",
            "RangeIndex: 39063 entries, 0 to 39062\n",
            "Data columns (total 56 columns):\n",
            " #   Column                 Non-Null Count  Dtype  \n",
            "---  ------                 --------------  -----  \n",
            " 0   policy_tenure          39063 non-null  float64\n",
            " 1   age_of_policyholder    39063 non-null  float64\n",
            " 2   age_of_car             39063 non-null  float64\n",
            " 3   area_cluster_C1        39063 non-null  uint8  \n",
            " 4   area_cluster_C10       39063 non-null  uint8  \n",
            " 5   area_cluster_C11       39063 non-null  uint8  \n",
            " 6   area_cluster_C12       39063 non-null  uint8  \n",
            " 7   area_cluster_C13       39063 non-null  uint8  \n",
            " 8   area_cluster_C14       39063 non-null  uint8  \n",
            " 9   area_cluster_C15       39063 non-null  uint8  \n",
            " 10  area_cluster_C16       39063 non-null  uint8  \n",
            " 11  area_cluster_C17       39063 non-null  uint8  \n",
            " 12  area_cluster_C18       39063 non-null  uint8  \n",
            " 13  area_cluster_C19       39063 non-null  uint8  \n",
            " 14  area_cluster_C2        39063 non-null  uint8  \n",
            " 15  area_cluster_C20       39063 non-null  uint8  \n",
            " 16  area_cluster_C21       39063 non-null  uint8  \n",
            " 17  area_cluster_C22       39063 non-null  uint8  \n",
            " 18  area_cluster_C3        39063 non-null  uint8  \n",
            " 19  area_cluster_C4        39063 non-null  uint8  \n",
            " 20  area_cluster_C5        39063 non-null  uint8  \n",
            " 21  area_cluster_C6        39063 non-null  uint8  \n",
            " 22  area_cluster_C7        39063 non-null  uint8  \n",
            " 23  area_cluster_C8        39063 non-null  uint8  \n",
            " 24  area_cluster_C9        39063 non-null  uint8  \n",
            " 25  gross_weight           39063 non-null  float64\n",
            " 26  model_M1               39063 non-null  uint8  \n",
            " 27  model_M10              39063 non-null  uint8  \n",
            " 28  model_M11              39063 non-null  uint8  \n",
            " 29  model_M2               39063 non-null  uint8  \n",
            " 30  model_M3               39063 non-null  uint8  \n",
            " 31  model_M4               39063 non-null  uint8  \n",
            " 32  model_M5               39063 non-null  uint8  \n",
            " 33  model_M6               39063 non-null  uint8  \n",
            " 34  model_M7               39063 non-null  uint8  \n",
            " 35  model_M8               39063 non-null  uint8  \n",
            " 36  model_M9               39063 non-null  uint8  \n",
            " 37  fuel_type_CNG          39063 non-null  uint8  \n",
            " 38  fuel_type_Diesel       39063 non-null  uint8  \n",
            " 39  fuel_type_Petrol       39063 non-null  uint8  \n",
            " 40  rear_brakes_type_Disc  39063 non-null  uint8  \n",
            " 41  rear_brakes_type_Drum  39063 non-null  uint8  \n",
            " 42  max_torque_Nm          39063 non-null  float64\n",
            " 43  max_torque_rpm         39063 non-null  int64  \n",
            " 44  max_power_bhp          39063 non-null  float64\n",
            " 45  max_power_rpm          39063 non-null  int64  \n",
            " 46  length                 39063 non-null  float64\n",
            " 47  width                  39063 non-null  float64\n",
            " 48  airbags                39063 non-null  int64  \n",
            " 49  segment_A              39063 non-null  uint8  \n",
            " 50  segment_B1             39063 non-null  uint8  \n",
            " 51  segment_B2             39063 non-null  uint8  \n",
            " 52  segment_C1             39063 non-null  uint8  \n",
            " 53  segment_C2             39063 non-null  uint8  \n",
            " 54  segment_Utility        39063 non-null  uint8  \n",
            " 55  gear_box               39063 non-null  int64  \n",
            "dtypes: float64(8), int64(4), uint8(44)\n",
            "memory usage: 5.2 MB\n"
          ]
        }
      ]
    },
    {
      "cell_type": "code",
      "source": [
        "XX = df2.iloc[:,[6,8,7,36,37,38,39,40,41,42,43,44,45,46,47,48,49,50,51,52,53,54,55,56,57,2,64,65,66,67,68,69,70,71,72,73,74,75,76,77,78,79,91,92,93,94,3,4,12,\n",
        "                 58,59,60,61,62,63,20]]\n",
        "yy =df2.iloc[:,35]\n",
        "print(XX.info())\n",
        "print(yy)\n",
        "\n",
        "\n",
        "XX_train,XX_test,yy_train,yy_test=train_test_split(XX,yy,test_size=0.30,random_state=3)\n",
        "\n",
        "print(\"Before OverSampling, counts of label '1': {}\".format(sum(yy_train == 1)))\n",
        "print(\"Before OverSampling, counts of label '0': {} \\n\".format(sum(yy_train == 0)))\n",
        "from imblearn.over_sampling import SMOTE\n",
        "sm = SMOTE(random_state = 3)\n",
        "XX_train_res, yy_train_res = sm.fit_resample(XX_train, yy_train.ravel())\n",
        "  \n",
        "print('After OverSampling, the shape of train_X: {}'.format(XX_train_res.shape))\n",
        "print('After OverSampling, the shape of train_y: {} \\n'.format(yy_train_res.shape))\n",
        "  \n",
        "print(\"After OverSampling, counts of label '1': {}\".format(sum(yy_train_res == 1)))\n",
        "print(\"After OverSampling, counts of label '0': {}\".format(sum(yy_train_res == 0)))\n",
        "\n",
        "xgb_cl=xgb.XGBClassifier()\n",
        "\n",
        "# fit\n",
        "xgb_cl.fit(XX_train_res,yy_train_res)\n",
        "# predict\n",
        "preds=xgb_cl.predict(XX_test)\n",
        "\n",
        "# preds=xgb_cl.predict(XX_test)\n",
        "print(\"test data_report\")\n",
        "print(classification_report(yy_test,preds))\n",
        "\n",
        "print(\"train data report\")\n",
        "preds_train=xgb_cl.predict(XX_train_res)\n",
        "print(classification_report(yy_train_res,preds_train))\n",
        "# predict\n",
        "preds_final=xgb_cl.predict(df_test3)\n"
      ],
      "metadata": {
        "colab": {
          "base_uri": "https://localhost:8080/"
        },
        "id": "V0A6EsRLbJCV",
        "outputId": "8d26240e-4465-4c76-d337-a69369b6c744"
      },
      "execution_count": null,
      "outputs": [
        {
          "output_type": "stream",
          "name": "stdout",
          "text": [
            "<class 'pandas.core.frame.DataFrame'>\n",
            "RangeIndex: 58592 entries, 0 to 58591\n",
            "Data columns (total 56 columns):\n",
            " #   Column                 Non-Null Count  Dtype  \n",
            "---  ------                 --------------  -----  \n",
            " 0   policy_tenure          58592 non-null  float64\n",
            " 1   age_of_policyholder    58592 non-null  float64\n",
            " 2   age_of_car             58592 non-null  float64\n",
            " 3   area_cluster_C1        58592 non-null  uint8  \n",
            " 4   area_cluster_C10       58592 non-null  uint8  \n",
            " 5   area_cluster_C11       58592 non-null  uint8  \n",
            " 6   area_cluster_C12       58592 non-null  uint8  \n",
            " 7   area_cluster_C13       58592 non-null  uint8  \n",
            " 8   area_cluster_C14       58592 non-null  uint8  \n",
            " 9   area_cluster_C15       58592 non-null  uint8  \n",
            " 10  area_cluster_C16       58592 non-null  uint8  \n",
            " 11  area_cluster_C17       58592 non-null  uint8  \n",
            " 12  area_cluster_C18       58592 non-null  uint8  \n",
            " 13  area_cluster_C19       58592 non-null  uint8  \n",
            " 14  area_cluster_C2        58592 non-null  uint8  \n",
            " 15  area_cluster_C20       58592 non-null  uint8  \n",
            " 16  area_cluster_C21       58592 non-null  uint8  \n",
            " 17  area_cluster_C22       58592 non-null  uint8  \n",
            " 18  area_cluster_C3        58592 non-null  uint8  \n",
            " 19  area_cluster_C4        58592 non-null  uint8  \n",
            " 20  area_cluster_C5        58592 non-null  uint8  \n",
            " 21  area_cluster_C6        58592 non-null  uint8  \n",
            " 22  area_cluster_C7        58592 non-null  uint8  \n",
            " 23  area_cluster_C8        58592 non-null  uint8  \n",
            " 24  area_cluster_C9        58592 non-null  uint8  \n",
            " 25  gross_weight           58592 non-null  float64\n",
            " 26  model_M1               58592 non-null  uint8  \n",
            " 27  model_M10              58592 non-null  uint8  \n",
            " 28  model_M11              58592 non-null  uint8  \n",
            " 29  model_M2               58592 non-null  uint8  \n",
            " 30  model_M3               58592 non-null  uint8  \n",
            " 31  model_M4               58592 non-null  uint8  \n",
            " 32  model_M5               58592 non-null  uint8  \n",
            " 33  model_M6               58592 non-null  uint8  \n",
            " 34  model_M7               58592 non-null  uint8  \n",
            " 35  model_M8               58592 non-null  uint8  \n",
            " 36  model_M9               58592 non-null  uint8  \n",
            " 37  fuel_type_CNG          58592 non-null  uint8  \n",
            " 38  fuel_type_Diesel       58592 non-null  uint8  \n",
            " 39  fuel_type_Petrol       58592 non-null  uint8  \n",
            " 40  rear_brakes_type_Disc  58592 non-null  uint8  \n",
            " 41  rear_brakes_type_Drum  58592 non-null  uint8  \n",
            " 42  max_torque_Nm          58592 non-null  float64\n",
            " 43  max_torque_rpm         58592 non-null  int64  \n",
            " 44  max_power_bhp          58592 non-null  float64\n",
            " 45  max_power_rpm          58592 non-null  int64  \n",
            " 46  length                 58592 non-null  float64\n",
            " 47  width                  58592 non-null  float64\n",
            " 48  airbags                58592 non-null  int64  \n",
            " 49  segment_A              58592 non-null  uint8  \n",
            " 50  segment_B1             58592 non-null  uint8  \n",
            " 51  segment_B2             58592 non-null  uint8  \n",
            " 52  segment_C1             58592 non-null  uint8  \n",
            " 53  segment_C2             58592 non-null  uint8  \n",
            " 54  segment_Utility        58592 non-null  uint8  \n",
            " 55  gear_box               58592 non-null  int64  \n",
            "dtypes: float64(8), int64(4), uint8(44)\n",
            "memory usage: 7.8 MB\n",
            "None\n",
            "0        0\n",
            "1        0\n",
            "2        0\n",
            "3        0\n",
            "4        0\n",
            "        ..\n",
            "58587    0\n",
            "58588    0\n",
            "58589    0\n",
            "58590    0\n",
            "58591    0\n",
            "Name: is_claim, Length: 58592, dtype: int64\n",
            "Before OverSampling, counts of label '1': 2568\n",
            "Before OverSampling, counts of label '0': 38446 \n",
            "\n",
            "After OverSampling, the shape of train_X: (76892, 56)\n",
            "After OverSampling, the shape of train_y: (76892,) \n",
            "\n",
            "After OverSampling, counts of label '1': 38446\n",
            "After OverSampling, counts of label '0': 38446\n",
            "test data_report\n",
            "              precision    recall  f1-score   support\n",
            "\n",
            "           0       0.95      0.76      0.84     16398\n",
            "           1       0.11      0.41      0.17      1180\n",
            "\n",
            "    accuracy                           0.74     17578\n",
            "   macro avg       0.53      0.58      0.51     17578\n",
            "weighted avg       0.89      0.74      0.80     17578\n",
            "\n",
            "train data report\n",
            "              precision    recall  f1-score   support\n",
            "\n",
            "           0       0.81      0.77      0.79     38446\n",
            "           1       0.78      0.82      0.80     38446\n",
            "\n",
            "    accuracy                           0.79     76892\n",
            "   macro avg       0.80      0.79      0.79     76892\n",
            "weighted avg       0.80      0.79      0.79     76892\n",
            "\n"
          ]
        }
      ]
    },
    {
      "cell_type": "code",
      "source": [
        "df4 = df_test1['policy_id']"
      ],
      "metadata": {
        "id": "dDMWhZYdmwF4"
      },
      "execution_count": null,
      "outputs": []
    },
    {
      "cell_type": "code",
      "source": [
        "df4.head()"
      ],
      "metadata": {
        "colab": {
          "base_uri": "https://localhost:8080/"
        },
        "id": "aydMaeA2m6Xq",
        "outputId": "75dfb157-cfea-460b-d753-4c669d182455"
      },
      "execution_count": null,
      "outputs": [
        {
          "output_type": "execute_result",
          "data": {
            "text/plain": [
              "0    ID58593\n",
              "1    ID58594\n",
              "2    ID58595\n",
              "3    ID58596\n",
              "4    ID58597\n",
              "Name: policy_id, dtype: object"
            ]
          },
          "metadata": {},
          "execution_count": 380
        }
      ]
    },
    {
      "cell_type": "code",
      "source": [
        "prediction = pd.DataFrame(preds_final)\n",
        "final_df = pd.concat((df4,prediction),axis = 1 )\n",
        "final_df.head()\n",
        "final_df.rename(columns = {0:'is_claim'}, inplace = True)\n",
        "final_csv1 = final_df.to_csv('final_csv1.csv', index = False)"
      ],
      "metadata": {
        "id": "q1CpC_jSb1K7"
      },
      "execution_count": null,
      "outputs": []
    },
    {
      "cell_type": "code",
      "source": [
        "from sklearn.metrics import confusion_matrix\n",
        "from sklearn.metrics import plot_confusion_matrix\n",
        "plot_confusion_matrix(xgb_cl,XX_test,yy_test)"
      ],
      "metadata": {
        "colab": {
          "base_uri": "https://localhost:8080/",
          "height": 591
        },
        "id": "5TlxLIF0lcIb",
        "outputId": "241a8922-4ade-432e-a9c4-929cbb05651d"
      },
      "execution_count": null,
      "outputs": [
        {
          "output_type": "execute_result",
          "data": {
            "text/plain": [
              "<sklearn.metrics._plot.confusion_matrix.ConfusionMatrixDisplay at 0x7fbdeef54ad0>"
            ]
          },
          "metadata": {},
          "execution_count": 384
        },
        {
          "output_type": "display_data",
          "data": {
            "text/plain": [
              "<Figure size 432x720 with 2 Axes>"
            ],
            "image/png": "[encoded data removed]"
          },
          "metadata": {}
        }
      ]
    },
    {
      "cell_type": "code",
      "source": [],
      "metadata": {
        "id": "vw4TgwzoG2oh"
      },
      "execution_count": null,
      "outputs": []
    }
  ]
}